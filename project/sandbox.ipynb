{
 "cells": [
  {
   "cell_type": "markdown",
   "metadata": {},
   "source": [
    "### Naive bayes\n",
    "\n",
    "http://people.csail.mit.edu/jrennie/papers/icml03-nb.pdf\n",
    "\n",
    "$$ p(\\theta|y) \\propto p(y|\\theta)p(\\theta) $$"
   ]
  },
  {
   "cell_type": "code",
   "execution_count": 51,
   "metadata": {
    "collapsed": false
   },
   "outputs": [],
   "source": [
    "%matplotlib inline\n",
    "import numpy as np\n",
    "import cPickle as pickle\n",
    "import glob\n",
    "from sklearn.feature_extraction.text import CountVectorizer\n",
    "from sklearn.feature_extraction.text import TfidfVectorizer\n",
    "from sklearn.naive_bayes import MultinomialNB\n",
    "from sklearn.metrics import f1_score\n",
    "import time\n",
    "import matplotlib.pyplot as plt\n",
    "plt.style.use('ggplot')\n",
    "plt.rc('figure', figsize=(10, 16))\n",
    "\n",
    "start = time.time()\n",
    "\n",
    "sv = CountVectorizer()\n",
    "rv = CountVectorizer()\n",
    "dv = TfidfVectorizer(max_df=1.0, min_df=0.01)\n",
    "\n",
    "def load_data(pattern, train=False):\n",
    "    docs = list()\n",
    "    receivers = list()\n",
    "    senders = list()\n",
    "    for path in glob.glob(\"data/\" + pattern):\n",
    "        with open(path) as f:\n",
    "            receivers.append(f.readline())\n",
    "            senders.append(f.readline())\n",
    "            docs.append(f.readline())\n",
    "\n",
    "    if train:\n",
    "        dv.fit(docs)\n",
    "        sv.fit(senders)\n",
    "        rv.fit(receivers)\n",
    "        \n",
    "    D = dv.transform(docs)\n",
    "    S = sv.transform(senders)\n",
    "    R = rv.transform(receivers)\n",
    "    \n",
    "    return D.toarray(), np.argmax(S.toarray(), axis=1), np.argmax(R.toarray(), axis=1)"
   ]
  },
  {
   "cell_type": "code",
   "execution_count": 17,
   "metadata": {
    "collapsed": false
   },
   "outputs": [],
   "source": [
    "train_X, train_s, train_r = load_data(\"0*\", True)\n",
    "val_X, val_s, val_r = load_data(\"f*\")"
   ]
  },
  {
   "cell_type": "code",
   "execution_count": 11,
   "metadata": {
    "collapsed": false
   },
   "outputs": [
    {
     "name": "stdout",
     "output_type": "stream",
     "text": [
      "(27164, 2622)\n",
      "(13904,)\n",
      "0.955768124281\n",
      "(13904,)\n",
      "0.992879746835\n"
     ]
    }
   ],
   "source": [
    "print train_X.shape\n",
    "\n",
    "print val_s.shape\n",
    "print 1-(val_s==0).mean()\n",
    "\n",
    "print val_r.shape\n",
    "print 1-(val_r==0).mean()"
   ]
  },
  {
   "cell_type": "code",
   "execution_count": 76,
   "metadata": {
    "collapsed": false,
    "scrolled": true
   },
   "outputs": [
    {
     "name": "stdout",
     "output_type": "stream",
     "text": [
      "0.832925776755\n",
      "0.570465869709\n",
      "0.789796641785\n"
     ]
    }
   ],
   "source": [
    "clf_s = MultinomialNB(alpha=0.1, fit_prior=False)\n",
    "clf_s.fit(train_X, train_s)\n",
    "prob = clf_s.predict_proba(val_X)\n",
    "pred_s = clf_s.predict(val_X)\n",
    "print f1_score(val_s, pred_s, average='micro')\n",
    "print f1_score(val_s, pred_s, average='macro')\n",
    "print f1_score(val_s, pred_s, average='weighted')"
   ]
  },
  {
   "cell_type": "code",
   "execution_count": 75,
   "metadata": {
    "collapsed": false,
    "scrolled": false
   },
   "outputs": [
    {
     "name": "stdout",
     "output_type": "stream",
     "text": [
      "(13904, 1803)\n",
      "(9745, 1803)\n",
      "(4159, 1803)\n",
      "(931, 1803)\n",
      "0.402052334531\n",
      "0.989660976196\n",
      "0.998925886144\n"
     ]
    },
    {
     "data": {
      "image/png": "[encoded data removed]",
      "text/plain": [
       "<matplotlib.figure.Figure at 0x15b79f050>"
      ]
     },
     "metadata": {},
     "output_type": "display_data"
    }
   ],
   "source": [
    "eq = (val_s==pred_s)\n",
    "neq = (val_s!=pred_s)\n",
    "nse = val_s==0\n",
    "print prob.shape\n",
    "print prob[eq].shape\n",
    "print prob[neq].shape\n",
    "print prob[nse].shape\n",
    "plt.subplot(3,1,1)\n",
    "_=plt.hist(prob[eq].max(axis=1), bins=100, normed=True)\n",
    "print (prob[eq].max(axis=1)>0.99).mean()\n",
    "plt.subplot(3,1,2)\n",
    "_=plt.hist(prob[neq].max(axis=1), bins=100, normed=True)\n",
    "print (prob[neq].max(axis=1)<0.99).mean()\n",
    "plt.subplot(3,1,3)\n",
    "_=plt.hist(prob[nse].max(axis=1), bins=100, normed=True)\n",
    "print (prob[nse].max(axis=1)<0.99).mean()"
   ]
  },
  {
   "cell_type": "code",
   "execution_count": 13,
   "metadata": {
    "collapsed": false
   },
   "outputs": [
    {
     "name": "stdout",
     "output_type": "stream",
     "text": [
      "0.729358457998\n",
      "0.356707153055\n",
      "0.754687479713\n"
     ]
    }
   ],
   "source": [
    "clf_r = MultinomialNB(alpha=0.0001, fit_prior=False)\n",
    "clf_r.fit(train_X, train_r)\n",
    "pred_r = clf_r.predict(val_X)\n",
    "print f1_score(val_r, pred_r, average='micro')\n",
    "print f1_score(val_r, pred_r, average='macro')\n",
    "print f1_score(val_r, pred_r, average='weighted')"
   ]
  },
  {
   "cell_type": "code",
   "execution_count": 113,
   "metadata": {
    "collapsed": false
   },
   "outputs": [
    {
     "name": "stdout",
     "output_type": "stream",
     "text": [
      "Took 153.973458 s\n"
     ]
    }
   ],
   "source": [
    "print \"Took %f s\" % (time.time()-start)"
   ]
  },
  {
   "cell_type": "code",
   "execution_count": 77,
   "metadata": {
    "collapsed": false
   },
   "outputs": [
    {
     "name": "stdout",
     "output_type": "stream",
     "text": [
      "0.778265247411\n",
      "0.404764224748\n",
      "0.716247002231\n"
     ]
    }
   ],
   "source": [
    "norm_coef = clf_s.coef_/np.abs(clf_s.coef_.sum(axis=1))[:,None]\n",
    "clf_s2 = clf_s\n",
    "clf_s2.feature_log_prob_ = norm_coef\n",
    "pred_s = clf_s2.predict(val_X)\n",
    "print f1_score(val_s, pred_s, average='micro')\n",
    "print f1_score(val_s, pred_s, average='macro')\n",
    "print f1_score(val_s, pred_s, average='weighted')"
   ]
  },
  {
   "cell_type": "code",
   "execution_count": 15,
   "metadata": {
    "collapsed": false
   },
   "outputs": [
    {
     "name": "stdout",
     "output_type": "stream",
     "text": [
      "0.73834867664\n",
      "0.34077063269\n",
      "0.746629219563\n"
     ]
    }
   ],
   "source": [
    "norm_coef = clf_r.coef_/np.abs(clf_r.coef_.sum(axis=1))[:,None]\n",
    "clf_r2 = clf_r\n",
    "clf_r2.feature_log_prob_ = norm_coef\n",
    "pred_r = clf_r2.predict(val_X)\n",
    "print f1_score(val_r, pred_r, average='micro')\n",
    "print f1_score(val_r, pred_r, average='macro')\n",
    "print f1_score(val_r, pred_r, average='weighted')"
   ]
  },
  {
   "cell_type": "code",
   "execution_count": null,
   "metadata": {
    "collapsed": true
   },
   "outputs": [],
   "source": []
  }
 ],
 "metadata": {
  "kernelspec": {
   "display_name": "Python 2",
   "language": "python",
   "name": "python2"
  },
  "language_info": {
   "codemirror_mode": {
    "name": "ipython",
    "version": 2
   },
   "file_extension": ".py",
   "mimetype": "text/x-python",
   "name": "python",
   "nbconvert_exporter": "python",
   "pygments_lexer": "ipython2",
   "version": "2.7.11"
  }
 },
 "nbformat": 4,
 "nbformat_minor": 0
}
