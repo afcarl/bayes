{
 "cells": [
  {
   "cell_type": "markdown",
   "metadata": {},
   "source": [
    "### Naive bayes\n",
    "\n",
    "http://people.csail.mit.edu/jrennie/papers/icml03-nb.pdf\n",
    "\n",
    "$$ p(\\theta|y) \\propto p(y|\\theta)p(\\theta) $$"
   ]
  },
  {
   "cell_type": "code",
   "execution_count": 6,
   "metadata": {
    "collapsed": false
   },
   "outputs": [],
   "source": [
    "%matplotlib inline\n",
    "import numpy as np\n",
    "import cPickle as pickle\n",
    "import glob\n",
    "from sklearn.feature_extraction.text import CountVectorizer\n",
    "from sklearn.feature_extraction.text import TfidfVectorizer\n",
    "from sklearn.naive_bayes import MultinomialNB\n",
    "from sklearn.metrics import f1_score\n",
    "import time\n",
    "import matplotlib.pyplot as plt\n",
    "plt.style.use('ggplot')\n",
    "plt.rc('figure', figsize=(10, 16))\n",
    "\n",
    "start = time.time()\n",
    "\n",
    "sv = CountVectorizer()\n",
    "rv = CountVectorizer()\n",
    "dv = CountVectorizer(max_df=1.0, min_df=0.01)\n",
    "\n",
    "def load_data(pattern, train=False):\n",
    "    docs = list()\n",
    "    receivers = list()\n",
    "    senders = list()\n",
    "    for path in glob.glob(\"data/\" + pattern):\n",
    "        with open(path) as f:\n",
    "            receivers.append(f.readline())\n",
    "            senders.append(f.readline())\n",
    "            docs.append(f.readline())\n",
    "\n",
    "    if train:\n",
    "        dv.fit(docs)\n",
    "        sv.fit(senders)\n",
    "        rv.fit(receivers)\n",
    "        \n",
    "    D = dv.transform(docs)\n",
    "    S = sv.transform(senders)\n",
    "    R = rv.transform(receivers)\n",
    "    \n",
    "    return D.toarray(), np.argmax(S.toarray(), axis=1), np.argmax(R.toarray(), axis=1)"
   ]
  },
  {
   "cell_type": "code",
   "execution_count": 7,
   "metadata": {
    "collapsed": false
   },
   "outputs": [],
   "source": [
    "train_X, train_s, train_r = load_data(\"0*\", True)\n",
    "val_X, val_s, val_r = load_data(\"ff*\")"
   ]
  },
  {
   "cell_type": "code",
   "execution_count": 8,
   "metadata": {
    "collapsed": false
   },
   "outputs": [
    {
     "name": "stdout",
     "output_type": "stream",
     "text": [
      "(13575, 2638)\n",
      "(839,)\n",
      "0.942789034565\n",
      "(839,)\n",
      "0.988081048868\n"
     ]
    }
   ],
   "source": [
    "print train_X.shape\n",
    "\n",
    "print val_s.shape\n",
    "print 1-(val_s==0).mean()\n",
    "\n",
    "print val_r.shape\n",
    "print 1-(val_r==0).mean()"
   ]
  },
  {
   "cell_type": "code",
   "execution_count": 23,
   "metadata": {
    "collapsed": false
   },
   "outputs": [],
   "source": [
    "clf_s = MultinomialNB(alpha=0.01)\n",
    "_=clf_s.fit(train_X, train_s)"
   ]
  },
  {
   "cell_type": "code",
   "execution_count": 24,
   "metadata": {
    "collapsed": false,
    "scrolled": true
   },
   "outputs": [
    {
     "name": "stdout",
     "output_type": "stream",
     "text": [
      "0.899880810489\n",
      "0.790338915697\n",
      "0.899987109024\n"
     ]
    }
   ],
   "source": [
    "prob = clf_s.predict_proba(val_X)\n",
    "pred_s = clf_s.predict(val_X)\n",
    "print f1_score(val_s, pred_s, average='micro')\n",
    "print f1_score(val_s, pred_s, average='macro')\n",
    "print f1_score(val_s, pred_s, average='weighted')"
   ]
  },
  {
   "cell_type": "code",
   "execution_count": 25,
   "metadata": {
    "collapsed": false,
    "scrolled": false
   },
   "outputs": [
    {
     "name": "stdout",
     "output_type": "stream",
     "text": [
      "(839, 1803)\n",
      "(755, 1803)\n",
      "(84, 1803)\n",
      "(48, 1803)\n",
      "0.95761589404\n",
      "0.22619047619\n",
      "0.25\n"
     ]
    },
    {
     "data": {
      "image/png": "[encoded data removed]",
      "text/plain": [
       "<matplotlib.figure.Figure at 0x1096e1b50>"
      ]
     },
     "metadata": {},
     "output_type": "display_data"
    }
   ],
   "source": [
    "eq = (val_s==pred_s)\n",
    "neq = (val_s!=pred_s)\n",
    "nse = val_s==0\n",
    "print prob.shape\n",
    "print prob[eq].shape\n",
    "print prob[neq].shape\n",
    "print prob[nse].shape\n",
    "plt.subplot(3,1,1)\n",
    "_=plt.hist(prob[eq].max(axis=1), bins=100, normed=True)\n",
    "print (prob[eq].max(axis=1)==1).mean()\n",
    "plt.subplot(3,1,2)\n",
    "_=plt.hist(prob[neq].max(axis=1), bins=100, normed=True)\n",
    "print (prob[neq].max(axis=1)==1).mean()\n",
    "plt.subplot(3,1,3)\n",
    "_=plt.hist(prob[nse].max(axis=1), bins=100, normed=True)\n",
    "print (prob[nse].max(axis=1)==1).mean()"
   ]
  },
  {
   "cell_type": "code",
   "execution_count": 13,
   "metadata": {
    "collapsed": false
   },
   "outputs": [
    {
     "name": "stdout",
     "output_type": "stream",
     "text": [
      "0.729358457998\n",
      "0.356707153055\n",
      "0.754687479713\n"
     ]
    }
   ],
   "source": [
    "clf_r = MultinomialNB(alpha=0.0001, fit_prior=False)\n",
    "clf_r.fit(train_X, train_r)\n",
    "pred_r = clf_r.predict(val_X)\n",
    "print f1_score(val_r, pred_r, average='micro')\n",
    "print f1_score(val_r, pred_r, average='macro')\n",
    "print f1_score(val_r, pred_r, average='weighted')"
   ]
  },
  {
   "cell_type": "code",
   "execution_count": 113,
   "metadata": {
    "collapsed": false
   },
   "outputs": [
    {
     "name": "stdout",
     "output_type": "stream",
     "text": [
      "Took 153.973458 s\n"
     ]
    }
   ],
   "source": [
    "print \"Took %f s\" % (time.time()-start)"
   ]
  },
  {
   "cell_type": "code",
   "execution_count": 77,
   "metadata": {
    "collapsed": false
   },
   "outputs": [
    {
     "name": "stdout",
     "output_type": "stream",
     "text": [
      "0.778265247411\n",
      "0.404764224748\n",
      "0.716247002231\n"
     ]
    }
   ],
   "source": [
    "norm_coef = clf_s.coef_/np.abs(clf_s.coef_.sum(axis=1))[:,None]\n",
    "clf_s2 = clf_s\n",
    "clf_s2.feature_log_prob_ = norm_coef\n",
    "pred_s = clf_s2.predict(val_X)\n",
    "print f1_score(val_s, pred_s, average='micro')\n",
    "print f1_score(val_s, pred_s, average='macro')\n",
    "print f1_score(val_s, pred_s, average='weighted')"
   ]
  },
  {
   "cell_type": "code",
   "execution_count": 15,
   "metadata": {
    "collapsed": false
   },
   "outputs": [
    {
     "name": "stdout",
     "output_type": "stream",
     "text": [
      "0.73834867664\n",
      "0.34077063269\n",
      "0.746629219563\n"
     ]
    }
   ],
   "source": [
    "norm_coef = clf_r.coef_/np.abs(clf_r.coef_.sum(axis=1))[:,None]\n",
    "clf_r2 = clf_r\n",
    "clf_r2.feature_log_prob_ = norm_coef\n",
    "pred_r = clf_r2.predict(val_X)\n",
    "print f1_score(val_r, pred_r, average='micro')\n",
    "print f1_score(val_r, pred_r, average='macro')\n",
    "print f1_score(val_r, pred_r, average='weighted')"
   ]
  },
  {
   "cell_type": "code",
   "execution_count": null,
   "metadata": {
    "collapsed": true
   },
   "outputs": [],
   "source": []
  }
 ],
 "metadata": {
  "kernelspec": {
   "display_name": "Python 2",
   "language": "python",
   "name": "python2"
  },
  "language_info": {
   "codemirror_mode": {
    "name": "ipython",
    "version": 2
   },
   "file_extension": ".py",
   "mimetype": "text/x-python",
   "name": "python",
   "nbconvert_exporter": "python",
   "pygments_lexer": "ipython2",
   "version": "2.7.11"
  }
 },
 "nbformat": 4,
 "nbformat_minor": 0
}
