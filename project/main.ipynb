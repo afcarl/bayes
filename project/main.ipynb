{
 "cells": [
  {
   "cell_type": "markdown",
   "metadata": {},
   "source": [
    "### Naive bayes\n",
    "\n",
    "$$ p(\\theta|y) \\propto p(y|\\theta)p(\\theta) $$"
   ]
  },
  {
   "cell_type": "code",
   "execution_count": 1,
   "metadata": {
    "collapsed": false
   },
   "outputs": [],
   "source": [
    "import numpy as np\n",
    "import cPickle as pickle\n",
    "import glob\n",
    "from sklearn.feature_extraction.text import CountVectorizer\n",
    "from sklearn.feature_extraction.text import TfidfVectorizer\n",
    "from sklearn.naive_bayes import MultinomialNB\n",
    "from sklearn.metrics import f1_score\n",
    "import time\n",
    "\n",
    "start = time.time()\n",
    "\n",
    "sv = CountVectorizer()\n",
    "rv = CountVectorizer()\n",
    "dv = TfidfVectorizer(max_df=1.0, min_df=0.01)\n",
    "\n",
    "def load_data(pattern, train=False):\n",
    "    docs = list()\n",
    "    receivers = list()\n",
    "    senders = list()\n",
    "    for path in glob.glob(\"data/\" + pattern):\n",
    "        with open(path) as f:\n",
    "            receivers.append(f.readline())\n",
    "            senders.append(f.readline())\n",
    "            docs.append(f.readline())\n",
    "\n",
    "    if train:\n",
    "        dv.fit(docs)\n",
    "        sv.fit(senders)\n",
    "        rv.fit(receivers)\n",
    "        \n",
    "    D = dv.transform(docs)\n",
    "    S = sv.transform(senders)\n",
    "    R = rv.transform(receivers)\n",
    "    \n",
    "    return D.toarray(), np.argmax(S.toarray(), axis=1), np.argmax(R.toarray(), axis=1)"
   ]
  },
  {
   "cell_type": "code",
   "execution_count": 2,
   "metadata": {
    "collapsed": true
   },
   "outputs": [],
   "source": [
    "train_X, train_s, train_r = load_data(\"0*\", True)\n",
    "val_X, val_s, val_r = load_data(\"1*\")"
   ]
  },
  {
   "cell_type": "code",
   "execution_count": 3,
   "metadata": {
    "collapsed": false
   },
   "outputs": [
    {
     "name": "stdout",
     "output_type": "stream",
     "text": [
      "(13575, 2638)\n",
      "(13589,)\n",
      "0.932739715947\n",
      "(13589,)\n",
      "0.98807859298\n"
     ]
    }
   ],
   "source": [
    "print train_X.shape\n",
    "\n",
    "print val_s.shape\n",
    "print 1-(val_s==0).mean()\n",
    "\n",
    "print val_r.shape\n",
    "print 1-(val_r==0).mean()"
   ]
  },
  {
   "cell_type": "code",
   "execution_count": 4,
   "metadata": {
    "collapsed": false
   },
   "outputs": [
    {
     "name": "stdout",
     "output_type": "stream",
     "text": [
      "0.899624696446\n",
      "0.772191692349\n",
      "0.894157648378\n"
     ]
    },
    {
     "name": "stderr",
     "output_type": "stream",
     "text": [
      "/Users/rasmusbergpalm/anaconda/lib/python2.7/site-packages/sklearn/metrics/classification.py:958: UndefinedMetricWarning: F-score is ill-defined and being set to 0.0 in labels with no predicted samples.\n",
      "  'precision', 'predicted', average, warn_for)\n",
      "/Users/rasmusbergpalm/anaconda/lib/python2.7/site-packages/sklearn/metrics/classification.py:960: UndefinedMetricWarning: F-score is ill-defined and being set to 0.0 in labels with no true samples.\n",
      "  'recall', 'true', average, warn_for)\n"
     ]
    }
   ],
   "source": [
    "clf_s = MultinomialNB(alpha=0.0001, fit_prior=False)\n",
    "clf_s.fit(train_X, train_s)\n",
    "pred_s = clf_s.predict(val_X)\n",
    "print f1_score(val_s, pred_s, average='micro')\n",
    "print f1_score(val_s, pred_s, average='macro')\n",
    "print f1_score(val_s, pred_s, average='weighted')"
   ]
  },
  {
   "cell_type": "code",
   "execution_count": 149,
   "metadata": {
    "collapsed": false
   },
   "outputs": [
    {
     "name": "stdout",
     "output_type": "stream",
     "text": [
      "0.77311617359\n",
      "0.372496276425\n",
      "0.796814074067\n"
     ]
    }
   ],
   "source": [
    "clf_r = MultinomialNB(alpha=0.0001, fit_prior=False)\n",
    "clf_r.fit(train_X, train_r)\n",
    "pred_r = clf_r.predict(val_X)\n",
    "print f1_score(val_r, pred_r, average='micro')\n",
    "print f1_score(val_r, pred_r, average='macro')\n",
    "print f1_score(val_r, pred_r, average='weighted')"
   ]
  },
  {
   "cell_type": "code",
   "execution_count": 113,
   "metadata": {
    "collapsed": false
   },
   "outputs": [
    {
     "name": "stdout",
     "output_type": "stream",
     "text": [
      "Took 153.973458 s\n"
     ]
    }
   ],
   "source": [
    "print \"Took %f s\" % (time.time()-start)"
   ]
  },
  {
   "cell_type": "code",
   "execution_count": 5,
   "metadata": {
    "collapsed": false
   },
   "outputs": [
    {
     "name": "stdout",
     "output_type": "stream",
     "text": [
      "0.894988593716\n",
      "0.805184970071\n",
      "0.869086541886\n"
     ]
    }
   ],
   "source": [
    "norm_coef = clf_s.coef_/np.abs(clf_s.coef_.sum(axis=1))[:,None]\n",
    "clf_s2 = clf_s\n",
    "clf_s2.feature_log_prob_ = norm_coef\n",
    "pred_s = clf_s2.predict(val_X)\n",
    "print f1_score(val_s, pred_s, average='micro')\n",
    "print f1_score(val_s, pred_s, average='macro')\n",
    "print f1_score(val_s, pred_s, average='weighted')"
   ]
  },
  {
   "cell_type": "code",
   "execution_count": 150,
   "metadata": {
    "collapsed": false
   },
   "outputs": [
    {
     "name": "stdout",
     "output_type": "stream",
     "text": [
      "0.810225749923\n",
      "0.373862197017\n",
      "0.802757838902\n"
     ]
    }
   ],
   "source": [
    "norm_coef = clf_r.coef_/np.abs(clf_r.coef_.sum(axis=1))[:,None]\n",
    "clf_r2 = clf_r\n",
    "clf_r2.feature_log_prob_ = norm_coef\n",
    "pred_r = clf_r2.predict(val_X)\n",
    "print f1_score(val_r, pred_r, average='micro')\n",
    "print f1_score(val_r, pred_r, average='macro')\n",
    "print f1_score(val_r, pred_r, average='weighted')"
   ]
  }
 ],
 "metadata": {
  "kernelspec": {
   "display_name": "Python 2",
   "language": "python",
   "name": "python2"
  },
  "language_info": {
   "codemirror_mode": {
    "name": "ipython",
    "version": 2
   },
   "file_extension": ".py",
   "mimetype": "text/x-python",
   "name": "python",
   "nbconvert_exporter": "python",
   "pygments_lexer": "ipython2",
   "version": "2.7.11"
  }
 },
 "nbformat": 4,
 "nbformat_minor": 0
}
