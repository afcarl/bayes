{
 "cells": [
  {
   "cell_type": "markdown",
   "metadata": {},
   "source": [
    "# Laplace approximation for the bioassay posterior (6p)\n",
    "\n",
    "Laplace approximation: derive the analytic form of the information matrix and the normal approximation covariance for the bioassay example.\n",
    "\n",
    " * Derive analytically the gradient and the Hessian of the log-posterior function $f(\\alpha,\\beta) =\n",
    "\\log(p(\\alpha, \\beta | y, n, x))$\n",
    "\n",
    "The unnormalized posterior is\n",
    "\n",
    "$$ p(\\alpha,\\beta | y,n,x) \\propto p(\\alpha,\\beta)p(y | \\alpha,\\beta,n,x) $$\n",
    "\n",
    "where the prior is uniform $p(\\alpha, \\beta) \\propto 1$ and the likelihood is given by (page 75 in BDA3)\n",
    "\n",
    "$$\n",
    "p(y | \\alpha,\\beta, n, x) = \n",
    "\\prod_{i=1}^4\n",
    "\\left[\n",
    "\\text{logit}^{-1}(\\alpha + \\beta x_i)\n",
    "\\right]^{y_i}\n",
    "\\left[\n",
    "1 - \\text{logit}^{-1}(\\alpha + \\beta x_i)\n",
    "\\right]^{n_i - y_i}\n",
    "$$\n",
    "\n",
    "$$\n",
    "p(y | \\alpha, \\beta, n, x) = \n",
    "\\prod_{i=1}^4\n",
    "\\left[\n",
    "\\frac{e^{\\phi_i}}{1+e^{\\phi_i}}\n",
    "\\right]^{y_i}\n",
    "\\left[\n",
    "\\frac{1}{1+e^{\\phi_i}}\n",
    "\\right]^{n_i - y_i}\n",
    "$$\n",
    "\n",
    "where we have defined an auxiliary variable $\\phi_i = \\alpha + \\beta x_i$. The data $x, y, n$ are given in the table 3.1 on page 74. Note that the normalizing constant does not depend on $\\alpha$ or $\\beta$, so the corresponding terms disappear after taking the logarithm of (1) and differentiating with respect to $\\alpha$ or $\\beta$."
   ]
  },
  {
   "cell_type": "markdown",
   "metadata": {
    "collapsed": true
   },
   "source": [
    "We're interested in the gradient and hessian of the log posterior. Taking the log.\n",
    "\n",
    "$$\n",
    "f(\\alpha, \\beta) \\propto \n",
    "\\sum_{i=1}^4\n",
    "y_i\\phi_i -\n",
    "n_i\\log(1+e^{\\phi_i})\n",
    "$$"
   ]
  },
  {
   "cell_type": "markdown",
   "metadata": {},
   "source": [
    "Taking the derivative w.r.t. $\\alpha$\n",
    "\n",
    "$$\n",
    "\\frac{df(\\alpha, \\beta)}{d\\alpha} = \n",
    "\\frac{df(\\alpha, \\beta)}{d\\phi}\\frac{d\\phi}{d\\alpha} =\n",
    "\\left[\n",
    "\\sum_{i=1}^4\n",
    "y_i -\n",
    "n_i\n",
    "\\frac{1}{1+e^{-\\phi_i}}\n",
    "\\right]\n",
    "\\frac{d\\phi}{d\\alpha} \n",
    "$$"
   ]
  },
  {
   "cell_type": "markdown",
   "metadata": {},
   "source": [
    "Evaluating\n",
    "\n",
    "$$\n",
    "\\frac{df(\\alpha, \\beta)}{d\\alpha} =\n",
    "\\sum_{i=1}^4\n",
    "y_i - \n",
    "n_i\\frac{1}{1+e^{-\\phi_i}}\n",
    "$$"
   ]
  },
  {
   "cell_type": "markdown",
   "metadata": {},
   "source": [
    "Similarly for $\\beta$\n",
    "\n",
    "$$\n",
    "\\frac{df(\\alpha, \\beta)}{d\\beta} =\n",
    "\\frac{df(\\alpha, \\beta)}{d\\phi}\\frac{d\\phi}{d\\beta} =\n",
    "\\left[\n",
    "\\sum_{i=1}^4\n",
    "y_i - \n",
    "n_i\\frac{1}{1+e^{-\\phi_i}}\n",
    "\\right]\n",
    "\\frac{d\\phi}{d\\beta}\n",
    "$$"
   ]
  },
  {
   "cell_type": "markdown",
   "metadata": {},
   "source": [
    "Evaluating\n",
    "\n",
    "$$\n",
    "\\frac{df(\\alpha, \\beta)}{d\\beta} =\n",
    "\\sum_{i=1}^4\n",
    "x_i\n",
    "\\left[\n",
    "y_i - \n",
    "n_i\\frac{1}{1+e^{-\\phi_i}}\n",
    "\\right]\n",
    "$$\n",
    "\n",
    "Which gives us the last part of the gradient."
   ]
  },
  {
   "cell_type": "markdown",
   "metadata": {},
   "source": [
    "It's usefull at this point to recognize the function\n",
    "\n",
    "$$\n",
    "z(\\phi) = \\frac{1}{1+e^{-\\phi}}\n",
    "$$\n",
    "\n",
    "As the sigmoid function, and recall that it has the useful property that\n",
    "\n",
    "$$\n",
    "\\frac{dz}{d\\phi} = (1-z(\\phi))z(\\phi)\n",
    "$$"
   ]
  },
  {
   "cell_type": "markdown",
   "metadata": {},
   "source": [
    "Now for the hessian terms, making heavy use of the property mentioned above.\n",
    "\n",
    "$$\n",
    "\\frac{d^2f(\\alpha, \\beta)}{d\\alpha^2} =\n",
    "\\frac{ddf(\\alpha, \\beta)}{d\\alpha d\\phi}\\frac{d\\phi}{d\\alpha} =\n",
    "\\left[\n",
    "-\\sum_{i=1}^4\n",
    "n_i\n",
    "(1-z(\\phi))z(\\phi)\n",
    "\\right]\n",
    "\\frac{d\\phi}{d\\alpha}\n",
    "$$"
   ]
  },
  {
   "cell_type": "markdown",
   "metadata": {},
   "source": [
    "$$\n",
    "\\frac{d^2f(\\alpha, \\beta)}{d\\alpha^2} =\n",
    "-\\sum_{i=1}^4\n",
    "n_i\n",
    "(1-z(\\phi))z(\\phi)\n",
    "$$"
   ]
  },
  {
   "cell_type": "markdown",
   "metadata": {},
   "source": [
    "$$\n",
    "\\frac{d^2f(\\alpha, \\beta)}{d\\alpha d\\beta} =\n",
    "\\frac{ddf(\\alpha, \\beta)}{d\\alpha d\\phi}\\frac{d\\phi}{d\\beta} =\n",
    "\\left[\n",
    "-\\sum_{i=1}^4\n",
    "n_i\n",
    "(1-z(\\phi))z(\\phi)\n",
    "\\right]\n",
    "\\frac{d\\phi}{d\\beta}\n",
    "$$\n",
    "\n",
    "$$\n",
    "\\frac{d^2f(\\alpha, \\beta)}{d\\alpha d\\beta} =\n",
    "-\\sum_{i=1}^4\n",
    "x_i\n",
    "n_i\n",
    "(1-z(\\phi))z(\\phi)\n",
    "$$"
   ]
  },
  {
   "cell_type": "markdown",
   "metadata": {},
   "source": [
    "$$\n",
    "\\frac{d^2f(\\alpha, \\beta)}{d\\beta^2} =\n",
    "\\frac{ddf(\\alpha, \\beta)}{d\\beta d\\phi}\\frac{d\\phi}{d\\beta} =\n",
    "\\left[\n",
    "-\n",
    "\\sum_{i=1}^4\n",
    "x_i\n",
    "n_i\n",
    "(1-z(\\phi))z(\\phi)\n",
    "\\right]\n",
    "\\frac{d\\phi}{d\\beta}\n",
    "$$\n",
    "\n",
    "$$\n",
    "\\frac{d^2f(\\alpha, \\beta)}{d\\beta^2} =\n",
    "-\n",
    "\\sum_{i=1}^4\n",
    "x_i^2\n",
    "n_i\n",
    "(1-z(\\phi))z(\\phi)\n",
    "$$"
   ]
  },
  {
   "cell_type": "markdown",
   "metadata": {},
   "source": [
    "* Implement a function [e,g,H] = bioassayfun(w,x,y,n) so that it returns the value e, the gradient g and the Hessian H of the negative log-posterior evaluated at w = ($\\alpha$, $\\beta$). g and H are the negatives of the gradient and Hessian of the log-posterior (2)."
   ]
  },
  {
   "cell_type": "markdown",
   "metadata": {},
   "source": [
    "$$\n",
    "f(\\alpha, \\beta) \\propto \n",
    "\\sum_{i=1}^4\n",
    "y_i\\phi_i -\n",
    "n_i\\log(1+e^{\\phi_i})\n",
    "$$"
   ]
  },
  {
   "cell_type": "code",
   "execution_count": 1,
   "metadata": {
    "collapsed": false
   },
   "outputs": [
    {
     "data": {
      "text/plain": [
       "<matplotlib.figure.Figure at 0x10bc9bbd0>"
      ]
     },
     "metadata": {},
     "output_type": "display_data"
    }
   ],
   "source": [
    "%matplotlib inline\n",
    "import numpy as np\n",
    "import matplotlib.pyplot as plt\n",
    "import scipy.stats as stats\n",
    "\n",
    "plt.rc('figure', figsize=(8, 6))\n",
    "plt.rc('font', size=18)\n",
    "plt.set_cmap(plt.get_cmap('viridis'))\n",
    "\n",
    "x = np.array([-.86, -.30, -.05, .73])\n",
    "n = np.array([5., 5., 5., 5.])\n",
    "y = np.array([0., 1., 3., 5.])\n",
    "\n",
    "def bioassayfun(w):\n",
    "    alpha = w[0]\n",
    "    beta = w[1]\n",
    "    phi = alpha + beta * x\n",
    "    lp = np.sum(y * phi - n * np.log(1 + np.exp(phi)))\n",
    "    \n",
    "    # Gradient terms\n",
    "    z = 1.0 / (1.0 + np.exp(-phi))\n",
    "    df_dphi = y - n * z\n",
    "    df_da = np.sum(df_dphi)\n",
    "    df_db = np.sum(df_dphi * x)\n",
    "    \n",
    "    # Hessian terms\n",
    "    dz_dphi = (1 - z) * z\n",
    "    df_daa = -np.sum(n * dz_dphi)\n",
    "    df_dab = -np.sum(x * n * dz_dphi)\n",
    "    df_dbb = -np.sum(x ** 2 * n * dz_dphi)\n",
    "    \n",
    "    return (-lp, -np.array([df_da, df_db]), -np.array([[df_daa, df_dab],[df_dab, df_dbb]]))"
   ]
  },
  {
   "cell_type": "code",
   "execution_count": 2,
   "metadata": {
    "collapsed": false
   },
   "outputs": [
    {
     "name": "stdout",
     "output_type": "stream",
     "text": [
      "15.5683272996\n",
      "[ 7.05574802 -3.5310204 ]\n",
      "[[ 2.73285984 -1.21269097]\n",
      " [-1.21269097  1.05815555]]\n"
     ]
    }
   ],
   "source": [
    "e,g,H = bioassayfun((2, 2))\n",
    "print e\n",
    "print g\n",
    "print H"
   ]
  },
  {
   "cell_type": "markdown",
   "metadata": {},
   "source": [
    "* Find the mode $\\hat{w}  = (\\hat{\\alpha} ,\\hat{\\beta})$ of the log-posterior (minimum of the negative log-posterior) using Newton’s method:\n",
    "\n",
    "$$\n",
    "w_{n+1} = w_n − H(w_n)^{−1} g(w_n)\n",
    "$$\n",
    "\n",
    "where $H(w_n)$ and $g(w_n)$ are the Hessian and the gradient evaluated at $w_n$. Use any suitable starting point $w_0$, such as the origin or some random point."
   ]
  },
  {
   "cell_type": "code",
   "execution_count": 3,
   "metadata": {
    "collapsed": true
   },
   "outputs": [],
   "source": [
    "def newton_min(f, x, max_iters, eps=1e-10):\n",
    "    \"\"\"\n",
    "    Minimize f using newtons method. f(x) must return (e, g, H) where \n",
    "    e is the value, H is the hessian and g is the gradient of f in point x.\n",
    "    \n",
    "    Runs for a maximum of max_iters iterations or until the absolute value\n",
    "    of all gradients are below eps.\n",
    "    \n",
    "    returns (x, e, g, H); The found minimum and e, g, H evaluated in that minimum.\n",
    "    \"\"\"\n",
    "    \n",
    "    for i in range(max_iters):\n",
    "        e, g, H = f(x)\n",
    "        if(np.all(np.abs(g) < eps)):\n",
    "            break\n",
    "            \n",
    "        x = x - np.dot(np.linalg.inv(H), g)\n",
    "    \n",
    "    return (x, e, g, H)"
   ]
  },
  {
   "cell_type": "code",
   "execution_count": 4,
   "metadata": {
    "collapsed": false
   },
   "outputs": [
    {
     "name": "stdout",
     "output_type": "stream",
     "text": [
      "Mode: [ 0.84658023  7.74881715]\n",
      "Value at mode: 5.894442\n",
      "Gradients at mode:\n",
      " [ -1.13797860e-15  -1.27588912e-15]\n",
      "Hessian at mode:\n",
      " [[ 1.96476869 -0.29342501]\n",
      " [-0.29342501  0.0859372 ]]\n"
     ]
    }
   ],
   "source": [
    "x_hat, e_hat, g_hat, H_hat = newton_min(bioassayfun, (0,0), 10)\n",
    "print \"Mode: %s\" % x_hat\n",
    "print \"Value at mode: %f\" % e_hat\n",
    "print \"Gradients at mode:\\n %s\" % g_hat\n",
    "print \"Hessian at mode:\\n %s\" % H_hat"
   ]
  },
  {
   "cell_type": "code",
   "execution_count": 5,
   "metadata": {
    "collapsed": false
   },
   "outputs": [
    {
     "name": "stdout",
     "output_type": "stream",
     "text": [
      "Normal approximation covariance matrix:\n",
      " [[  1.03853509   3.54598682]\n",
      " [  3.54598682  23.74386507]]\n"
     ]
    }
   ],
   "source": [
    "cov = np.linalg.inv(H_hat)\n",
    "print \"Normal approximation covariance matrix:\\n %s\" % cov"
   ]
  },
  {
   "cell_type": "code",
   "execution_count": 6,
   "metadata": {
    "collapsed": false
   },
   "outputs": [
    {
     "data": {
      "image/png": "[encoded data removed]",
      "text/plain": [
       "<matplotlib.figure.Figure at 0x104134f90>"
      ]
     },
     "metadata": {},
     "output_type": "display_data"
    }
   ],
   "source": [
    "ngrid = 500\n",
    "A = np.linspace(-2, 4, ngrid)\n",
    "B = np.linspace(-10, 25, ngrid)\n",
    "A_broadcasted = np.lib.stride_tricks.as_strided(A, shape=(ngrid,ngrid), strides=(0,A.strides[0]))\n",
    "B_broadcasted = np.lib.stride_tricks.as_strided(B, shape=(ngrid,ngrid), strides=(B.strides[0],0))\n",
    "grid = np.dstack((A_broadcasted, B_broadcasted))\n",
    "pdf = stats.multivariate_normal.pdf(x=grid, mean=x_hat, cov=cov)\n",
    "plt.imshow(pdf, interpolation=\"None\", origin='lower', aspect='auto', extent=(A[0], A[-1], B[0], B[-1]))\n",
    "plt.xlim([A[0], A[-1]])\n",
    "plt.ylim([B[0], B[-1]])\n",
    "_=plt.title('Normal approximation')\n",
    "_=plt.xlabel(r'$\\alpha$')\n",
    "_=plt.ylabel(r'$\\beta$')"
   ]
  }
 ],
 "metadata": {
  "kernelspec": {
   "display_name": "Python 2",
   "language": "python",
   "name": "python2"
  },
  "language_info": {
   "codemirror_mode": {
    "name": "ipython",
    "version": 2
   },
   "file_extension": ".py",
   "mimetype": "text/x-python",
   "name": "python",
   "nbconvert_exporter": "python",
   "pygments_lexer": "ipython2",
   "version": "2.7.11"
  }
 },
 "nbformat": 4,
 "nbformat_minor": 0
}
