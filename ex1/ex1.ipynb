{
 "cells": [
  {
   "cell_type": "markdown",
   "metadata": {},
   "source": [
    "Inference for binomial proportion (Matlab/Python)\n",
    "\n",
    "Algae status is monitored in 274 sites at Finnish lakes and rivers. The observations for the 2008 algae status at each site are presented in file algae.txt (’0’: no algae, ’1’: algae present). Let $\\pi$ be the probability of a monitoring site having detectable blue-green algae levels.\n",
    "\n",
    "Use a binomial model for observations and a $Beta(2, 10)$ prior for $\\pi$ in Bayesian inference. Formulate Bayesian model (likelihood $p(y|\\pi)$ and prior $p(\\pi)$) and use your model to answer the following questions:\n",
    "\n",
    "Hint: With a conjugate prior a closed form posterior is Beta form (see equations in the book). You can then use betapdf, betacdf and betainv functions in Matlab, or functions in class scipy.stats.beta in Python.\n",
    "\n",
    "a) What can you say about the value of the unknown $\\pi$ according to the observations and your prior knowledge? Summarize your results using point and interval estimates."
   ]
  },
  {
   "cell_type": "markdown",
   "metadata": {},
   "source": [
    "The following is given\n",
    "\n",
    "$$p(y|\\pi) = Binom(\\pi) = {n \\choose y}  \\pi^y(1-\\pi)^{n-y} $$\n",
    "\n",
    "$$p(\\pi) = Beta(2, 10) = \\frac{\\pi^{2-1}(1-\\pi)^{10-1}}{B(2,10)} $$\n",
    "\n",
    "Using bayes rule to get the posterior\n",
    "\n",
    "$$p(\\pi|y) = \\frac{p(y|\\pi)p(\\pi)}{p(y)}$$\n",
    "\n",
    "Inserting the definitions of $p(y|\\pi)$ and $p(\\pi)$\n",
    "\n",
    "$$p(\\pi|y) = \\frac{{n \\choose y}  \\pi^y(1-\\pi)^{n-y}\\frac{\\pi^{2-1}(1-\\pi)^{10-1}}{B(2,10)}}{p(y)}$$\n",
    "\n",
    "Re-arranging all the constant terms\n",
    "\n",
    "$$p(\\pi|y) = \\frac{{n \\choose y}}{p(y)B(2,10)} \\pi^y(1-\\pi)^{n-y}\\pi^{2-1}(1-\\pi)^{10-1}$$\n",
    "\n",
    "Dropping the constant term.\n",
    "\n",
    "$$p(\\pi|y) \\propto \\pi^y(1-\\pi)^{n-y}\\pi^{2-1}(1-\\pi)^{10-1}$$\n",
    "\n",
    "Reducing\n",
    "\n",
    "$$p(\\pi|y) \\propto \\pi^{y+2-1}(1-\\pi)^{n-y+10-1}$$\n",
    "\n",
    "This is a $Beta(y+2, n-y+10)$ distribution which we can plot"
   ]
  },
  {
   "cell_type": "code",
   "execution_count": 34,
   "metadata": {
    "collapsed": false
   },
   "outputs": [
    {
     "name": "stdout",
     "output_type": "stream",
     "text": [
      "mode: 0.160584\n",
      "95 central interval: (0.12065601480266504, 0.20551209692962358)\n"
     ]
    }
   ],
   "source": [
    "import scipy.stats as stats\n",
    "import numpy as np\n",
    "data = np.loadtxt('algae.txt')\n",
    "y = data.sum()\n",
    "n = data.size\n",
    "\n",
    "a = y + 2\n",
    "b = n - y + 10\n",
    "print \"mode: %f\"%(y/n)\n",
    "print \"95 central interval: %s\"%(stats.beta.interval(0.95,int(a),int(b)),)"
   ]
  },
  {
   "cell_type": "markdown",
   "metadata": {
    "collapsed": true
   },
   "source": [
    "b) Is the proportion of monitoring sites with detectable algae levels π smaller than π0 = 0.2 that is known from historical records?\n",
    "\n",
    "c) What assumptions are required in order to use this kind of a model with this type of data?\n",
    "\n",
    "d) Make prior sensitivity analysis by testing different reasonable priors. Summarize the results by one or two sentences."
   ]
  },
  {
   "cell_type": "code",
   "execution_count": null,
   "metadata": {
    "collapsed": true
   },
   "outputs": [],
   "source": []
  }
 ],
 "metadata": {
  "kernelspec": {
   "display_name": "Python 2",
   "language": "python",
   "name": "python2"
  },
  "language_info": {
   "codemirror_mode": {
    "name": "ipython",
    "version": 2
   },
   "file_extension": ".py",
   "mimetype": "text/x-python",
   "name": "python",
   "nbconvert_exporter": "python",
   "pygments_lexer": "ipython2",
   "version": "2.7.10"
  }
 },
 "nbformat": 4,
 "nbformat_minor": 0
}
