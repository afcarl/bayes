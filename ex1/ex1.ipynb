{
 "cells": [
  {
   "cell_type": "markdown",
   "metadata": {},
   "source": [
    "Inference for binomial proportion (Matlab/Python)\n",
    "\n",
    "Algae status is monitored in 274 sites at Finnish lakes and rivers. The observations for the 2008 algae status at each site are presented in file algae.txt (’0’: no algae, ’1’: algae present). Let $\\pi$ be the probability of a monitoring site having detectable blue-green algae levels.\n",
    "\n",
    "Use a binomial model for observations and a $Beta(2, 10)$ prior for $\\pi$ in Bayesian inference. Formulate Bayesian model (likelihood $p(y|\\pi)$ and prior $p(\\pi)$) and use your model to answer the following questions:\n",
    "\n",
    "Hint: With a conjugate prior a closed form posterior is Beta form (see equations in the book). You can then use betapdf, betacdf and betainv functions in Matlab, or functions in class scipy.stats.beta in Python.\n",
    "\n",
    "### a) \n",
    "**What can you say about the value of the unknown $\\pi$ according to the observations and your prior knowledge? Summarize your results using point and interval estimates.**"
   ]
  },
  {
   "cell_type": "markdown",
   "metadata": {},
   "source": [
    "The following is given:\n",
    "\n",
    "$$p(y|\\pi) = Binom(\\pi) = {n \\choose y}  \\pi^y(1-\\pi)^{n-y} $$\n",
    "\n",
    "$$p(\\pi) = Beta(2, 10) = \\frac{\\pi^{2-1}(1-\\pi)^{10-1}}{B(2,10)} $$\n",
    "\n",
    "Using bayes rule to get the posterior\n",
    "\n",
    "$$p(\\pi|y) = \\frac{p(y|\\pi)p(\\pi)}{p(y)}$$\n",
    "\n",
    "Inserting the definitions of $p(y|\\pi)$ and $p(\\pi)$\n",
    "\n",
    "$$p(\\pi|y) = \\frac{{n \\choose y}  \\pi^y(1-\\pi)^{n-y}\\frac{\\pi^{2-1}(1-\\pi)^{10-1}}{B(2,10)}}{p(y)}$$\n",
    "\n",
    "Re-arranging all the constant terms\n",
    "\n",
    "$$p(\\pi|y) = \\frac{{n \\choose y}}{p(y)B(2,10)} \\pi^y(1-\\pi)^{n-y}\\pi^{2-1}(1-\\pi)^{10-1}$$\n",
    "\n",
    "Dropping the constant term\n",
    "\n",
    "$$p(\\pi|y) \\propto \\pi^y(1-\\pi)^{n-y}\\pi^{2-1}(1-\\pi)^{10-1}$$\n",
    "\n",
    "Reducing\n",
    "\n",
    "$$p(\\pi|y) \\propto \\pi^{y+2-1}(1-\\pi)^{n-y+10-1}$$\n",
    "\n",
    "This is a $Beta(y+2, n-y+10)$ distribution."
   ]
  },
  {
   "cell_type": "code",
   "execution_count": 7,
   "metadata": {
    "collapsed": false
   },
   "outputs": [
    {
     "name": "stdout",
     "output_type": "stream",
     "text": [
      "Mean: 0.160839, variance: 0.000470\n",
      "95 central interval: (0.12065601480266504, 0.20551209692962358)\n"
     ]
    },
    {
     "data": {
      "image/png": "[encoded data removed]",
      "text/plain": [
       "<matplotlib.figure.Figure at 0x1047a1f90>"
      ]
     },
     "metadata": {},
     "output_type": "display_data"
    }
   ],
   "source": [
    "%matplotlib inline\n",
    "import matplotlib.pyplot as plt\n",
    "import scipy.stats as stats\n",
    "import numpy as np\n",
    "data = np.loadtxt('algae.txt')\n",
    "y = data.sum()\n",
    "n = data.size\n",
    "\n",
    "a = y + 2\n",
    "b = n - y + 10\n",
    "print \"Mean: %f, variance: %f\"%(stats.beta.stats(a,b))\n",
    "print \"95 central interval: %s\"%(stats.beta.interval(0.95,int(a),int(b)),)\n",
    "x = np.linspace(0, 1, 1000)\n",
    "pdf = stats.beta.pdf(x, a, b)\n",
    "plt.plot(x, pdf, label='p($\\pi$|y)')\n",
    "plt.legend()\n",
    "plt.show()"
   ]
  },
  {
   "cell_type": "markdown",
   "metadata": {},
   "source": [
    "### B) \n",
    "**Is the proportion of monitoring sites with detectable algae levels $\\pi$ smaller than $\\pi_0 = 0.2$ that is known from historical records?**"
   ]
  },
  {
   "cell_type": "markdown",
   "metadata": {},
   "source": [
    "The probability that $\\pi \\leq 0.2$ is"
   ]
  },
  {
   "cell_type": "code",
   "execution_count": 6,
   "metadata": {
    "collapsed": false,
    "scrolled": true
   },
   "outputs": [
    {
     "data": {
      "text/plain": [
       "0.95861358719485545"
      ]
     },
     "execution_count": 6,
     "metadata": {},
     "output_type": "execute_result"
    }
   ],
   "source": [
    "stats.beta.cdf(0.2, a, b)"
   ]
  },
  {
   "cell_type": "markdown",
   "metadata": {
    "collapsed": true
   },
   "source": [
    "### C) \n",
    "**What assumptions are required in order to use this kind of a model with this type of data?**"
   ]
  },
  {
   "cell_type": "markdown",
   "metadata": {},
   "source": [
    "We assume that the samples are i.i.d and follows a binomial probability distribution, and that the prior on $\\pi$ is a $Beta(2,10)$ distribution."
   ]
  },
  {
   "cell_type": "markdown",
   "metadata": {},
   "source": [
    "### D) \n",
    "**Make prior sensitivity analysis by testing different reasonable priors. Summarize the results by one or two sentences.**"
   ]
  },
  {
   "cell_type": "markdown",
   "metadata": {},
   "source": [
    "We'll compare to a uniform prior and a prior based on assumed historical records. Assuming we have 10 years of data with a mode of 0.2 and we have 274 samples per year. This corresponds roughly to a $Beta(549, 2190)$ prior. Luckily $Beta(1,1)$ is equal to the uniform distribution, so we can use the equations from question A for both comparisons."
   ]
  },
  {
   "cell_type": "code",
   "execution_count": 5,
   "metadata": {
    "collapsed": false
   },
   "outputs": [
    {
     "data": {
      "image/png": "[encoded data removed]",
      "text/plain": [
       "<matplotlib.figure.Figure at 0x107e1f3d0>"
      ]
     },
     "metadata": {},
     "output_type": "display_data"
    }
   ],
   "source": [
    "a_uniform = y + 1\n",
    "b_uniform = n - y + 1\n",
    "pdf_uniform = stats.beta.pdf(x, a_uniform, b_uniform)\n",
    "\n",
    "a_strong = y + 549\n",
    "b_strong = n - y + 2190\n",
    "pdf_strong = stats.beta.pdf(x, a_strong, b_strong)\n",
    "plt.plot(x, pdf, label='p(y|$\\pi$)Beta(2,10)')\n",
    "plt.plot(x, pdf_uniform, 'r', label='p(y|$\\pi$)Beta(1,1)')\n",
    "plt.plot(x, pdf_strong, label='p(y|$\\pi$)Beta(549,2190)')\n",
    "plt.legend()\n",
    "plt.show()"
   ]
  },
  {
   "cell_type": "markdown",
   "metadata": {},
   "source": [
    "In summary, with weak priors the posterior does not change much, but you can drown out the data with a strong enough prior."
   ]
  }
 ],
 "metadata": {
  "kernelspec": {
   "display_name": "Python 2",
   "language": "python",
   "name": "python2"
  },
  "language_info": {
   "codemirror_mode": {
    "name": "ipython",
    "version": 2
   },
   "file_extension": ".py",
   "mimetype": "text/x-python",
   "name": "python",
   "nbconvert_exporter": "python",
   "pygments_lexer": "ipython2",
   "version": "2.7.11"
  }
 },
 "nbformat": 4,
 "nbformat_minor": 0
}
