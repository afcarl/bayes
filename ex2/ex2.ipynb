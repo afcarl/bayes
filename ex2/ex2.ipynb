{
 "cells": [
  {
   "cell_type": "markdown",
   "metadata": {},
   "source": [
    "## 1. Inference for normal mean and deviation (3 points)\n",
    "A factory has a production line for manufacturing car windshields. A sample of windshields has\n",
    "been taken for testing hardness. The observed hardness values y can be found in file windshieldy1.txt.\n",
    "We may assume that the observations follow a normal distribution with an unknown standard deviation $\\sigma$. We wish to obtain information about the unknown average hardness μ. Formulate the Bayesian model with uninformative or weakly informative prior and answer the following questions:\n",
    "\n",
    "**a) What can you say about the unknown $\\mu$? Summarize your results using Bayesian point and interval estimates.**"
   ]
  },
  {
   "cell_type": "markdown",
   "metadata": {},
   "source": [
    "Assuming the windshield hardness is normally distributed and i.i.d\n",
    "\n",
    "$$p(y_i|\\mu,\\sigma^2) = \\mathcal{N}(\\mu, \\sigma^2) = \\frac{1}{\\sigma\\sqrt{2\\pi}}e^{-\\frac{(y_i-\\mu)^2}{2\\sigma^2}}$$\n",
    "\n",
    "$$p(y|\\mu, \\sigma^2) = \\prod_{i=1}^n p(y_i | \\mu, \\sigma^2)$$"
   ]
  },
  {
   "cell_type": "markdown",
   "metadata": {},
   "source": [
    "Choosing a non-informative prior for $\\mu$ and $\\sigma^2$\n",
    "\n",
    "$$p(\\mu, \\sigma^2) = \\sigma^{-2}$$"
   ]
  },
  {
   "cell_type": "markdown",
   "metadata": {},
   "source": [
    "Using bayes rule the posterior is\n",
    "\n",
    "$$p(\\mu, \\sigma^2|y) = \\frac{p(\\mu, \\sigma^2)p(y|\\mu, \\sigma^2)}{p(y)}$$"
   ]
  },
  {
   "cell_type": "markdown",
   "metadata": {},
   "source": [
    "Dropping the normalizing term\n",
    "\n",
    "$$p(\\mu, \\sigma^2|y) \\propto p(\\mu, \\sigma^2)p(y|\\mu, \\sigma^2)$$"
   ]
  },
  {
   "cell_type": "markdown",
   "metadata": {},
   "source": [
    "Inserting the definitions of $p(\\mu, \\sigma^2)$ and $p(y|\\mu, \\sigma^2)$\n",
    "\n",
    "$$p(\\mu, \\sigma^2|y) \\propto  \\sigma^{-2} \\prod_{i=1}^n \\frac{1}{\\sigma\\sqrt{2\\pi}} e^{-\\frac{(y_i-\\mu)^2}{2\\sigma^2}}$$"
   ]
  },
  {
   "cell_type": "markdown",
   "metadata": {},
   "source": [
    "Rearranging\n",
    "\n",
    "$$p(\\mu, \\sigma^2|y) \\propto  \\sigma^{-2} \\left(\\frac{1}{\\sigma\\sqrt{2\\pi}}\\right)^n \\prod_{i=1}^n e^{-\\frac{(y_i-\\mu)^2}{2\\sigma^2}}$$"
   ]
  },
  {
   "cell_type": "markdown",
   "metadata": {},
   "source": [
    "Dropping the constant term $\\left(\\frac{1}{\\sqrt{2\\pi}}\\right)^n$\n",
    "\n",
    "$$p(\\mu, \\sigma^2|y) \\propto  \\sigma^{-2}\\sigma^{-n}\\prod_{i=1}^n e^{-\\frac{(y_i-\\mu)^2}{2\\sigma^2}}$$"
   ]
  },
  {
   "cell_type": "markdown",
   "metadata": {},
   "source": [
    "Using $\\prod_x e^x = e^{\\sum_x x}$\n",
    "\n",
    "$$p(\\mu, \\sigma^2|y) \\propto  \\sigma^{-2-n} exp\\left(-\\frac{1}{2\\sigma^2}\\sum_{i=1}^n(y_i-\\mu)^2\\right)$$"
   ]
  },
  {
   "cell_type": "markdown",
   "metadata": {},
   "source": [
    "Adding and subtracting $\\bar{y}$, the sample mean of $y$\n",
    "\n",
    "$$p(\\mu, \\sigma^2|y) \\propto  \\sigma^{-2-n} exp\\left(-\\frac{1}{2\\sigma^2}\\sum_{i=1}^n((y_i-\\bar{y})-(\\mu-\\bar{y}))^2\\right)$$"
   ]
  },
  {
   "cell_type": "markdown",
   "metadata": {},
   "source": [
    "Expanding the square using $(a-b)^2 = a^2+b^2-2ab$\n",
    "\n",
    "$$p(\\mu, \\sigma^2|y) \\propto  \\sigma^{-2-n} exp\\left(-\\frac{1}{2\\sigma^2}\\sum_{i=1}^n\\left[(y_i-\\bar{y})^2+(\\mu-\\bar{y})^2-2(y_i-\\bar{y})(\\mu-\\bar{y})\\right]\\right)$$"
   ]
  },
  {
   "cell_type": "markdown",
   "metadata": {},
   "source": [
    "Splitting the sum.\n",
    "\n",
    "$$p(\\mu, \\sigma^2|y) \\propto  \\sigma^{-2-n} exp\\left(-\\frac{1}{2\\sigma^2}\\left(\\sum_{i=1}^n\\left[(y_i-\\bar{y})^2+(\\mu-\\bar{y})^2\\right]-2(\\mu-\\bar{y})\\sum_{i=1}^n\\left[y_i-\\bar{y}\\right]\\right)\\right)$$"
   ]
  },
  {
   "cell_type": "markdown",
   "metadata": {},
   "source": [
    "The last sum is the sum of differences between y and the mean of y, which is 0.\n",
    "\n",
    "$$p(\\mu, \\sigma^2|y) \\propto  \\sigma^{-2-n} exp\\left(-\\frac{1}{2\\sigma^2}\\sum_{i=1}^n\\left[(y_i-\\bar{y})^2+(\\mu-\\bar{y})^2\\right]\\right)$$"
   ]
  },
  {
   "cell_type": "markdown",
   "metadata": {},
   "source": [
    "The last element of the sum does not depend on $i$\n",
    "\n",
    "$$p(\\mu, \\sigma^2|y) \\propto  \\sigma^{-2-n} exp\\left(-\\frac{1}{2\\sigma^2} \\left( n(\\mu-\\bar{y})^2 + \\sum_{i=1}^n (y_i-\\bar{y})^2\\right)\\right)$$"
   ]
  },
  {
   "cell_type": "markdown",
   "metadata": {},
   "source": [
    "Inserting $s^2=\\frac{1}{n-1}\\sum_{i=1}^n(y_i-\\bar{y})^2$, the sample variance of $y$\n",
    "\n",
    "$$p(\\mu, \\sigma^2|y) \\propto  \\sigma^{-2-n} exp\\left(-\\frac{1}{2\\sigma^2} \\left( n(\\mu-\\bar{y})^2 + (n-1)s^2\\right)\\right)$$"
   ]
  },
  {
   "cell_type": "markdown",
   "metadata": {},
   "source": [
    "We're interested in the marginal posterior of $\\mu$, so we'll integrate $\\sigma^2$ out\n",
    "\n",
    "$$p(\\mu|y) \\propto \\int_0^{\\infty} \\sigma^{-2-n} exp\\left(-\\frac{1}{2\\sigma^2} \\left( n(\\mu-\\bar{y})^2 + (n-1)s^2\\right)\\right)d\\sigma^2$$"
   ]
  },
  {
   "cell_type": "markdown",
   "metadata": {},
   "source": [
    "Substituting $z=\\frac{A}{2\\sigma^2}$, $d\\sigma^2 = -\\frac{2}{A}\\sigma^4dz$ and $\\sigma = \\left(\\frac{A}{2z}\\right)^{1/2}$ and $A=(n-1)s^2+n(\\mu-\\bar{y})^2$\n",
    "\n",
    "$$p(\\mu|y) \\propto \\int_{\\infty}^0 -\\left(\\frac{A}{2z}\\right)^{(-2-n)/2} e^{-z} \\frac{2}{A}\\left(\\frac{A}{2z}\\right)^2dz $$"
   ]
  },
  {
   "cell_type": "markdown",
   "metadata": {},
   "source": [
    "Gathering the $\\frac{A}{2z}$ elements\n",
    "\n",
    "$$p(\\mu|y) \\propto \\int_{\\infty}^0 -\\left(\\frac{A}{2z}\\right)^{(-2-n)/2+2} e^{-z} \\frac{2}{A}dz $$"
   ]
  },
  {
   "cell_type": "markdown",
   "metadata": {},
   "source": [
    "Simplifying the exponent\n",
    "\n",
    "$$p(\\mu|y) \\propto \\int_{\\infty}^0 -\\left(\\frac{A}{2z}\\right)^{(2-n)/2} e^{-z} \\frac{2}{A}dz $$"
   ]
  },
  {
   "cell_type": "markdown",
   "metadata": {},
   "source": [
    "Swapping the limits of integration using $\\int_a^b f(x) = -\\int_b^a f(x)$\n",
    "\n",
    "$$p(\\mu|y) \\propto \\int_0^{\\infty} \\left(\\frac{A}{2z}\\right)^{(2-n)/2} e^{-z} \\frac{2}{A}dz $$"
   ]
  },
  {
   "cell_type": "markdown",
   "metadata": {},
   "source": [
    "Separating the fraction\n",
    "\n",
    "$$p(\\mu|y) \\propto \\int_0^{\\infty} \\left(\\frac{A}{2}\\right)^{(2-n)/2}\\left(\\frac{1}{z}\\right)^{(2-n)/2} e^{-z} \\frac{2}{A}dz $$"
   ]
  },
  {
   "cell_type": "markdown",
   "metadata": {},
   "source": [
    "Gathering the $\\frac{A}{2}$ elements\n",
    "\n",
    "$$p(\\mu|y) \\propto \\int_0^{\\infty} \\left(\\frac{A}{2}\\right)^{(2-n)/2-1}\\left(\\frac{1}{z}\\right)^{(2-n)/2} e^{-z} dz $$"
   ]
  },
  {
   "cell_type": "markdown",
   "metadata": {},
   "source": [
    "Simplifying the exponents, and moving the term that does not depend on $z$ outside the integral\n",
    "\n",
    "$$p(\\mu|y) \\propto \\left(\\frac{A}{2}\\right)^{-n/2} \\int_0^{\\infty} z^{(n-2)/2} e^{-z} dz $$"
   ]
  },
  {
   "cell_type": "markdown",
   "metadata": {},
   "source": [
    "Dropping the constant term $\\left(\\frac{1}{2}\\right)^{-n/2}$\n",
    "\n",
    "$$p(\\mu|y) \\propto A^{-n/2} \\int_0^{\\infty} z^{(n-2)/2} e^{-z} dz $$"
   ]
  },
  {
   "cell_type": "markdown",
   "metadata": {},
   "source": [
    "$z$ is a positive real number so the integral is a gamma function which value does not depend on $\\mu$, but only on $n$. As such we can treat it as a constant and drop it.\n",
    "\n",
    "$$p(\\mu|y) \\propto A^{-n/2} $$"
   ]
  },
  {
   "cell_type": "markdown",
   "metadata": {},
   "source": [
    "Inserting the definition of A\n",
    "\n",
    "$$p(\\mu|y) \\propto ((n-1)s^2+n(\\mu-\\bar{y})^2)^{-n/2} $$"
   ]
  },
  {
   "cell_type": "markdown",
   "metadata": {},
   "source": [
    "We divide by $\\left[(n-1)s^2\\right]^{-n/2}$ which we can do since it's a constant term\n",
    "\n",
    "$$p(\\mu|y) \\propto \\left[1+\\frac{n(\\mu-\\bar{y})^2}{(n-1)s^2}\\right]^{-n/2} $$"
   ]
  },
  {
   "cell_type": "markdown",
   "metadata": {},
   "source": [
    "Setting $n=\\nu+1$\n",
    "\n",
    "$$p(\\mu|y) \\propto \\left[1+\\frac{(\\nu+1)(\\mu-\\bar{y})^2}{\\nu s^2}\\right]^{-(\\nu+1)/2} $$"
   ]
  },
  {
   "cell_type": "markdown",
   "metadata": {},
   "source": [
    "Setting $s^2=k^2(\\nu+1)$\n",
    "\n",
    "$$p(\\mu|y) \\propto \\left[1+\\frac{1}{\\nu }\\left(\\frac{(\\mu-\\bar{y})}{k}\\right)^2\\right]^{-(\\nu+1)/2} $$"
   ]
  },
  {
   "cell_type": "markdown",
   "metadata": {},
   "source": [
    "This is an unnormalized Student's t-distribution with $\\nu = n-1$ degrees of freedom, $\\bar{y}$ location and $k = \\sqrt{s^2/(\\nu+1)} = \\sqrt{s^2/n}$  scale\n",
    "\n",
    "$$p(\\mu|y) = t_{n-1}(\\bar{y}, \\sqrt{s^2/n}) $$"
   ]
  },
  {
   "cell_type": "code",
   "execution_count": 69,
   "metadata": {
    "collapsed": false
   },
   "outputs": [
    {
     "name": "stdout",
     "output_type": "stream",
     "text": [
      "Mode: 14.611222\n",
      "95 percent central interval: (13.51634317916522, 15.706101265279225)\n"
     ]
    },
    {
     "data": {
      "image/png": "[encoded data removed]",
      "text/plain": [
       "<matplotlib.figure.Figure at 0x10dbe4210>"
      ]
     },
     "metadata": {},
     "output_type": "display_data"
    }
   ],
   "source": [
    "%matplotlib inline\n",
    "import matplotlib.pyplot as plt\n",
    "import scipy.stats as stats\n",
    "import numpy as np\n",
    "y = np.loadtxt('windshieldy1.txt')\n",
    "\n",
    "n = y.size\n",
    "y_bar = y.mean()\n",
    "s2 = y.var(ddof=1)\n",
    "\n",
    "df = n+1\n",
    "loc = y_bar\n",
    "scale = np.sqrt(s2/n)\n",
    "\n",
    "x = np.linspace(loc-5*scale,loc+5*scale,1000)\n",
    "\n",
    "pdf = stats.t.pdf(x, df, loc, scale)\n",
    "plt.plot(x, pdf)\n",
    "plt.title('$p(\\mu|y)$', fontsize=20)\n",
    "\n",
    "print \"Mode: %f\" % y_bar\n",
    "print \"95 percent central interval: %s\" % (stats.t.interval(0.95, df, loc, scale),)"
   ]
  },
  {
   "cell_type": "markdown",
   "metadata": {},
   "source": [
    "**b) What can you say about the hardness of the next windshield coming from the production line before actually measuring the hardness?**\n",
    "\n",
    "Hint: With a conjugate prior a closed form posterior is Student’s t form (see equations in the book). You can then use tpdf and tcdf functions in Matlab. Note that these functions are for standardized Student-t with mean 0 and scale 1, so you need to do the scaling and translation yourself."
   ]
  },
  {
   "cell_type": "markdown",
   "metadata": {},
   "source": [
    "The following is given\n",
    "\n",
    "$$ p(\\tilde{y}|\\mu, \\sigma^2, y) = \\frac{1}{\\sigma\\sqrt{2\\pi}}exp\\left(-\\frac{(\\tilde{y}-\\mu)^2}{2\\sigma^2}\\right) $$\n",
    "\n",
    "$$ p(\\mu, \\sigma^2|y) \\propto \\sigma^{-2-n} exp\\left(-\\frac{1}{2\\sigma^2} \\left( n(\\mu-\\bar{y})^2 + (n-1)s^2\\right)\\right) $$"
   ]
  },
  {
   "cell_type": "markdown",
   "metadata": {},
   "source": [
    "We wish to say something about the posterior predictive distribution:\n",
    "\n",
    "$$ p(\\tilde{y}|y)=\\int_0^{\\infty} \\int_{-\\infty}^{\\infty} p(\\tilde{y}|\\mu, \\sigma^2, y) p(\\mu, \\sigma^2|y) d\\mu d\\sigma^2 $$"
   ]
  },
  {
   "cell_type": "markdown",
   "metadata": {},
   "source": [
    "Inserting the definitions of $p(\\tilde{y}|\\mu, \\sigma^2, y)$ and $p(\\mu, \\sigma^2|y)$\n",
    "\n",
    "$$ p(\\tilde{y}|y) \\propto \\int_0^{\\infty} \\int_{-\\infty}^{\\infty} \\frac{1}{\\sigma\\sqrt{2\\pi}}exp\\left(-\\frac{(\\tilde{y}-\\mu)^2}{2\\sigma^2}\\right) \\sigma^{-2-n} exp\\left(-\\frac{1}{2\\sigma^2} \\left( n(\\mu-\\bar{y})^2 + (n-1)s^2\\right)\\right) d\\mu d\\sigma^2 $$"
   ]
  },
  {
   "cell_type": "markdown",
   "metadata": {},
   "source": [
    "Moving the parts that does not depend on $\\mu$ outside the inner integral\n",
    "\n",
    "$$ p(\\tilde{y}|y) \n",
    "\\propto \n",
    "\\int_0^{\\infty} \n",
    "\\frac{1}{\\sigma\\sqrt{2\\pi}} \n",
    "\\sigma^{-2-n} \n",
    "\\int_{-\\infty}^{\\infty} \n",
    "exp\\left(-\\frac{(\\tilde{y}-\\mu)^2}{2\\sigma^2}\\right) exp\\left(-\\frac{1}{2\\sigma^2} \\left( n(\\mu-\\bar{y})^2 + (n-1)s^2\\right)\\right) \n",
    "d\\mu \n",
    "d\\sigma^2\n",
    "$$\n",
    "\n",
    "$$ p(\\tilde{y}|y) \n",
    "\\propto \n",
    "\\int_0^{\\infty} \n",
    "\\frac{1}{\\sigma\\sqrt{2\\pi}}\n",
    "\\sigma^{-2-n}\n",
    "exp\\left(-\\frac{(n-1)s^2}{2\\sigma^2}\\right)\n",
    "\\int_{-\\infty}^{\\infty} \n",
    "exp\\left(-\\frac{(\\tilde{y}-\\mu)^2}{2\\sigma^2}\\right) \n",
    "exp\\left(-\\frac{n(\\mu-\\bar{y})^2}{2\\sigma^2}\\right) \n",
    "d\\mu \n",
    "d\\sigma^2 \n",
    "$$"
   ]
  },
  {
   "cell_type": "markdown",
   "metadata": {},
   "source": [
    "Gathering the exponents\n",
    "\n",
    "$$ p(\\tilde{y}|y) \n",
    "\\propto \n",
    "\\int_0^{\\infty} \n",
    "\\frac{1}{\\sigma\\sqrt{2\\pi}}\n",
    "\\sigma^{-2-n}\n",
    "exp\\left(-\\frac{(n-1)s^2}{2\\sigma^2}\\right)\n",
    "\\int_{-\\infty}^{\\infty} \n",
    "exp\\left(-\\frac{(\\tilde{y}-\\mu)^2}{2\\sigma^2}-\\frac{n(\\mu-\\bar{y})^2}{2\\sigma^2}\\right) \n",
    "d\\mu \n",
    "d\\sigma^2 \n",
    "$$"
   ]
  },
  {
   "cell_type": "markdown",
   "metadata": {},
   "source": [
    "Simplifying the exponent\n",
    "\n",
    "$$ p(\\tilde{y}|y) \n",
    "\\propto \n",
    "\\int_0^{\\infty} \n",
    "\\frac{1}{\\sigma\\sqrt{2\\pi}}\n",
    "\\sigma^{-2-n}\n",
    "exp\\left(-\\frac{(n-1)s^2}{2\\sigma^2}\\right)\n",
    "\\int_{-\\infty}^{\\infty} \n",
    "exp\\left(-\\frac{1}{2\\sigma^2} \\left[(\\tilde{y}-\\mu)^2+n(\\mu-\\bar{y})^2\\right]\\right) \n",
    "d\\mu \n",
    "d\\sigma^2 \n",
    "$$"
   ]
  },
  {
   "cell_type": "markdown",
   "metadata": {},
   "source": [
    "Expanding the exponent\n",
    "\n",
    "$$ (\\tilde{y}-\\mu)^2 + n(\\mu-\\bar{y})^2 $$\n",
    "\n",
    "$$\\tilde{y}^2+\\mu^2-2\\tilde{y}\\mu + n(\\mu^2+\\bar{y}^2-2\\mu\\bar{y})$$\n",
    "\n",
    "$$\\tilde{y}^2+\\mu^2-2\\tilde{y}\\mu + n\\mu^2+n\\bar{y}^2-2n\\mu\\bar{y}$$\n",
    "\n",
    "$$(n+1)\\mu^2 + \\tilde{y}^2 - 2\\tilde{y}\\mu + n\\bar{y}^2 - 2n\\mu\\bar{y}$$\n",
    "\n",
    "$$(n+1)\\mu^2 + \\tilde{y}^2 + n\\bar{y}^2 - 2n\\mu\\bar{y} - 2\\mu\\tilde{y}$$\n",
    "\n",
    "$$(n+1)\\mu^2 + \\tilde{y}^2 + n\\bar{y}^2 - 2\\mu(n\\bar{y} + \\tilde{y})$$\n",
    "\n",
    "$$(n+1)\\mu^2 - 2(n\\bar{y} + \\tilde{y})\\mu + \\tilde{y}^2 + n\\bar{y}^2 $$\n"
   ]
  },
  {
   "cell_type": "markdown",
   "metadata": {},
   "source": [
    "Inserting the expanded exponent\n",
    "\n",
    "$$ p(\\tilde{y}|y) \n",
    "\\propto \n",
    "\\int_0^{\\infty} \n",
    "\\frac{1}{\\sigma\\sqrt{2\\pi}}\n",
    "\\sigma^{-2-n}\n",
    "exp\\left(-\\frac{(n-1)s^2}{2\\sigma^2}\\right)\n",
    "\\int_{-\\infty}^{\\infty} \n",
    "exp\\left(-\\frac{1}{2\\sigma^2} \\left[ (n+1)\\mu^2 - 2(n\\bar{y} + \\tilde{y})\\mu + \\tilde{y}^2 + n\\bar{y}^2 \\right]\\right) \n",
    "d\\mu \n",
    "d\\sigma^2 \n",
    "$$"
   ]
  },
  {
   "cell_type": "markdown",
   "metadata": {},
   "source": [
    "$$ p(\\tilde{y}|y) \n",
    "\\propto \n",
    "\\int_0^{\\infty} \n",
    "\\frac{1}{\\sigma\\sqrt{2\\pi}}\n",
    "\\sigma^{-2-n}\n",
    "exp\\left(-\\frac{(n-1)s^2}{2\\sigma^2}\\right)\n",
    "\\int_{-\\infty}^{\\infty} \n",
    "exp\\left(-\\frac{(n+1)\\mu^2}{2\\sigma^2} + \\frac{2(n\\bar{y}+\\tilde{y})\\mu}{2\\sigma^2} - \\frac{\\tilde{y}^2 + n\\bar{y}^2}{2\\sigma^2} \\right) \n",
    "d\\mu \n",
    "d\\sigma^2 \n",
    "$$"
   ]
  },
  {
   "cell_type": "markdown",
   "metadata": {},
   "source": [
    "Setting $f=\\frac{n+1}{2\\sigma^2}$, $g=\\frac{2(n\\bar{y}+\\tilde{y})}{2\\sigma^2}$ and $h=-\\frac{\\tilde{y}^2+n\\bar{y}^2}{2\\sigma^2}$"
   ]
  },
  {
   "cell_type": "markdown",
   "metadata": {},
   "source": [
    "$$ p(\\tilde{y}|y) \n",
    "\\propto \n",
    "\\int_0^{\\infty} \n",
    "\\frac{1}{\\sigma\\sqrt{2\\pi}}\n",
    "\\sigma^{-2-n}\n",
    "exp\\left(-\\frac{(n-1)s^2}{2\\sigma^2}\\right)\n",
    "\\int_{-\\infty}^{\\infty} \n",
    "exp\\left(-f\\mu^2 + g\\mu + h \\right) \n",
    "d\\mu \n",
    "d\\sigma^2 \n",
    "$$"
   ]
  },
  {
   "cell_type": "markdown",
   "metadata": {},
   "source": [
    "It is seen that this is the integral of a gaussian.\n",
    "$$ p(\\tilde{y}|y) \n",
    "\\propto \n",
    "\\int_0^{\\infty} \n",
    "\\frac{1}{\\sigma\\sqrt{2\\pi}}\n",
    "\\sigma^{-2-n}\n",
    "exp\\left(-\\frac{(n-1)s^2}{2\\sigma^2}\\right)\n",
    "\\sqrt{\\frac{\\pi}{f}}exp\\left(\\frac{g^2}{4f}+h\\right)\n",
    "d\\sigma^2 \n",
    "$$"
   ]
  },
  {
   "cell_type": "markdown",
   "metadata": {},
   "source": [
    "Inserting the definitions of $f$, $g$ and $h$\n",
    "\n",
    "$$ p(\\tilde{y}|y) \n",
    "\\propto \n",
    "\\int_0^{\\infty} \n",
    "\\frac{1}{\\sigma\\sqrt{2\\pi}}\n",
    "\\sigma^{-2-n}\n",
    "exp\\left(-\\frac{(n-1)s^2}{2\\sigma^2}\\right)\n",
    "\\sqrt{\\frac{\\pi}{\\frac{n+1}{2\\sigma^2}}} exp\\left(\\frac{\\left(\\frac{2(n\\bar{y}+\\tilde{y})}{2\\sigma^2}\\right)^2}{4(\\frac{n+1}{2\\sigma^2})}-\\frac{\\tilde{y}^2+n\\bar{y}^2}{2\\sigma^2}\\right)\n",
    "d\\sigma^2 \n",
    "$$"
   ]
  },
  {
   "cell_type": "markdown",
   "metadata": {},
   "source": [
    "Simplifying\n",
    "\n",
    "$$ p(\\tilde{y}|y) \n",
    "\\propto \n",
    "\\int_0^{\\infty} \n",
    "\\frac{1}{\\sigma\\sqrt{2\\pi}}\n",
    "\\sigma^{-2-n}\n",
    "exp\\left(-\\frac{(n-1)s^2}{2\\sigma^2}\\right)\n",
    "\\sqrt{\\frac{2\\sigma^2\\pi}{n+1}} \n",
    "exp\\left(\\frac{\\left(\\frac{2(n\\bar{y}+\\tilde{y})}{2\\sigma^2}\\right)^2}{4(\\frac{n+1}{2\\sigma^2})}-\\frac{\\tilde{y}^2+n\\bar{y}^2}{2\\sigma^2}\\right)\n",
    "d\\sigma^2 \n",
    "$$"
   ]
  },
  {
   "cell_type": "markdown",
   "metadata": {},
   "source": [
    "Simplifying\n",
    "\n",
    "$$ p(\\tilde{y}|y) \n",
    "\\propto \n",
    "\\int_0^{\\infty} \n",
    "\\frac{1}{\\sqrt{n+1}}\n",
    "\\sigma^{-2-n}\n",
    "exp\\left(-\\frac{(n-1)s^2}{2\\sigma^2}\\right)\n",
    "exp\\left(\\frac{\\left(\\frac{2(n\\bar{y}+\\tilde{y})}{2\\sigma^2}\\right)^2}{4(\\frac{n+1}{2\\sigma^2})}-\\frac{\\tilde{y}^2+n\\bar{y}^2}{2\\sigma^2}\\right)\n",
    "d\\sigma^2 \n",
    "$$"
   ]
  },
  {
   "cell_type": "markdown",
   "metadata": {},
   "source": [
    "Simplifying and dropping the constant term $1/\\sqrt{n+1}$\n",
    "\n",
    "$$ p(\\tilde{y}|y) \n",
    "\\propto \n",
    "\\int_0^{\\infty} \n",
    "\\sigma^{-2-n}\n",
    "exp\\left(-\\frac{(n-1)s^2}{2\\sigma^2}\\right)\n",
    "exp\\left(\n",
    "\\frac{\\left(2(n\\bar{y}+\\tilde{y})\\right)^2}{4\\sigma^4 4(\\frac{n+1}{2\\sigma^2})}\n",
    "-\\frac{\\tilde{y}^2+n\\bar{y}^2}{2\\sigma^2}\n",
    "\\right)\n",
    "d\\sigma^2 \n",
    "$$"
   ]
  },
  {
   "cell_type": "markdown",
   "metadata": {},
   "source": [
    "Simplifying\n",
    "\n",
    "$$ p(\\tilde{y}|y) \n",
    "\\propto \n",
    "\\int_0^{\\infty} \n",
    "\\sigma^{-2-n}\n",
    "exp\\left(-\\frac{(n-1)s^2}{2\\sigma^2}\\right)\n",
    "exp\\left(\n",
    "\\frac{2\\sigma^2(n\\bar{y}+\\tilde{y})^2}{\\sigma^4 4(n+1)}\n",
    "-\\frac{\\tilde{y}^2+n\\bar{y}^2}{2\\sigma^2}\n",
    "\\right)\n",
    "d\\sigma^2 \n",
    "$$"
   ]
  },
  {
   "cell_type": "markdown",
   "metadata": {},
   "source": [
    "Simplifying\n",
    "\n",
    "$$ p(\\tilde{y}|y)\n",
    "\\propto \n",
    "\\int_0^{\\infty} \n",
    "\\sigma^{-2-n}\n",
    "exp\\left(-\\frac{(n-1)s^2}{2\\sigma^2}\\right)\n",
    "exp\\left(\n",
    "\\frac{(n\\bar{y}+\\tilde{y})^2}{2\\sigma^2(n+1)}\n",
    "-\\frac{\\tilde{y}^2+n\\bar{y}^2}{2\\sigma^2}\n",
    "\\right)\n",
    "d\\sigma^2 \n",
    "$$"
   ]
  },
  {
   "cell_type": "markdown",
   "metadata": {},
   "source": [
    "Simplifying\n",
    "\n",
    "$$ p(\\tilde{y}|y)\n",
    "\\propto \n",
    "\\int_0^{\\infty} \n",
    "\\sigma^{-2-n}\n",
    "exp\\left(-\\frac{(n-1)s^2}{2\\sigma^2} + \n",
    "\\frac{(n\\bar{y}+\\tilde{y})^2}{2\\sigma^2(n+1)}\n",
    "-\\frac{\\tilde{y}^2+n\\bar{y}^2}{2\\sigma^2}\n",
    "\\right)\n",
    "d\\sigma^2 \n",
    "$$"
   ]
  },
  {
   "cell_type": "markdown",
   "metadata": {},
   "source": [
    "Simplifying\n",
    "\n",
    "$$ p(\\tilde{y}|y)\n",
    "\\propto \n",
    "\\int_0^{\\infty} \n",
    "\\sigma^{-2-n}\n",
    "exp\\left(\n",
    "-\\frac{1}{2\\sigma^2}\n",
    "\\left[\n",
    "(n-1)s^2\n",
    "-\\frac{(n\\bar{y}+\\tilde{y})^2}{(n+1)}\n",
    "+\\tilde{y}^2+n\\bar{y}^2\n",
    "\\right]\n",
    "\\right)\n",
    "d\\sigma^2 \n",
    "$$"
   ]
  },
  {
   "cell_type": "markdown",
   "metadata": {},
   "source": [
    "Substituting $z=\\frac{A}{2\\sigma^2}$, $d\\sigma^2 = -\\frac{2}{A}\\sigma^4dz$ and $\\sigma = \\left(\\frac{A}{2z}\\right)^{1/2}$ and $A=\\left[(n-1)s^2-\\frac{(n\\bar{y}+\\tilde{y})^2}{(n+1)}+\\tilde{y}^2+n\\bar{y}^2\\right]$\n",
    "\n",
    "$$p(\\tilde{y}|y) \\propto \\int_{\\infty}^0 -\\left(\\frac{A}{2z}\\right)^{(-2-n)/2} e^{-z} \\frac{2}{A}\\left(\\frac{A}{2z}\\right)^2dz $$\n"
   ]
  },
  {
   "cell_type": "markdown",
   "metadata": {},
   "source": [
    "We've seen this before during the derivation of the marginal posterior of $\\mu$. The only difference is $A$, and the derivations did not depend on $A$ so we know how it ends:\n",
    "\n",
    "$$p(\\tilde{y}|y) \\propto A^{-n/2} $$"
   ]
  },
  {
   "cell_type": "markdown",
   "metadata": {},
   "source": [
    "Inserting the definition of $A$\n",
    "\n",
    "$$p(\\tilde{y}|y) \\propto \\left[(n-1)s^2-\\frac{(n\\bar{y}+\\tilde{y})^2}{(n+1)}+\\tilde{y}^2+n\\bar{y}^2\\right]^{-n/2} $$"
   ]
  },
  {
   "cell_type": "markdown",
   "metadata": {},
   "source": [
    "Multiplying by $\\left[(n+1)\\right]^{-n/2}$, which we can do since it's a constant\n",
    "\n",
    "$$p(\\tilde{y}|y) \n",
    "\\propto \n",
    "\\left[\n",
    "(n-1)(n+1)s^2\n",
    "-(n\\bar{y}+\\tilde{y})^2\n",
    "+(n+1)\\tilde{y}^2\n",
    "+(n+1)n\\bar{y}^2\n",
    "\\right]^{-n/2}\n",
    "$$"
   ]
  },
  {
   "cell_type": "markdown",
   "metadata": {},
   "source": [
    "Simplifying\n",
    "\n",
    "$$p(\\tilde{y}|y) \n",
    "\\propto \n",
    "\\left[\n",
    "(n-1)(n+1)s^2\n",
    "+n(\\tilde{y}-\\bar{y})^2\n",
    "\\right]^{-n/2}\n",
    "$$"
   ]
  },
  {
   "cell_type": "markdown",
   "metadata": {},
   "source": [
    "Dividing by $\\left[(n-1)(n+1)s^2\\right]^{-n/2}$\n",
    "\n",
    "$$p(\\tilde{y}|y) \n",
    "\\propto \n",
    "\\left[\n",
    "1\n",
    "+\\frac{n(\\tilde{y}-\\bar{y})^2}{(n-1)(n+1)s^2}\n",
    "\\right]^{-n/2}\n",
    "$$"
   ]
  },
  {
   "cell_type": "markdown",
   "metadata": {},
   "source": [
    "Setting $s^2=\\frac{nk^2}{(n+1)}$\n",
    "\n",
    "$$p(\\tilde{y}|y) \n",
    "\\propto \n",
    "\\left[\n",
    "1\n",
    "+\\frac{n(\\tilde{y}-\\bar{y})^2}{(n-1)(n+1)\\frac{nk^2}{(n+1)}}\n",
    "\\right]^{-n/2}\n",
    "$$"
   ]
  },
  {
   "cell_type": "markdown",
   "metadata": {},
   "source": [
    "Simplifying\n",
    "\n",
    "$$p(\\tilde{y}|y) \n",
    "\\propto \n",
    "\\left[\n",
    "1\n",
    "+\\frac{(\\tilde{y}-\\bar{y})^2}{(n-1)k^2}\n",
    "\\right]^{-n/2}\n",
    "$$"
   ]
  },
  {
   "cell_type": "markdown",
   "metadata": {},
   "source": [
    "Setting $n=\\nu+1$\n",
    "\n",
    "$$p(\\tilde{y}|y) \n",
    "\\propto \n",
    "\\left[\n",
    "1\n",
    "+\\frac{1}{\\nu}\n",
    "\\left(\\frac{\\tilde{y}-\\bar{y}}{k}\\right)^2\n",
    "\\right]^{-(\\nu+1)/2}\n",
    "$$"
   ]
  },
  {
   "cell_type": "markdown",
   "metadata": {},
   "source": [
    "This is an unnormalized students t-distribution with $\\nu=n-1$ degrees of freedom, $\\bar{y}$ location and $k=\\sqrt{s^2(n+1)/n}$ scale\n",
    "\n",
    "$$p(\\tilde{y}|y) = t_{n-1}\\left(\\bar{y}, \\sqrt{s^2(n+1)/n}\\right)$$"
   ]
  },
  {
   "cell_type": "code",
   "execution_count": 68,
   "metadata": {
    "collapsed": false
   },
   "outputs": [
    {
     "name": "stdout",
     "output_type": "stream",
     "text": [
      "Mode: 14.611222\n",
      "95 percent central interval: (11.027915590596221, 18.194528853848226)\n"
     ]
    },
    {
     "data": {
      "image/png": "[encoded data removed]",
      "text/plain": [
       "<matplotlib.figure.Figure at 0x10d422dd0>"
      ]
     },
     "metadata": {},
     "output_type": "display_data"
    }
   ],
   "source": [
    "df = n-1\n",
    "loc = y_bar\n",
    "scale = np.sqrt(s2*(n+1)/n)\n",
    "\n",
    "x = np.linspace(loc-5*scale,loc+5*scale,1000)\n",
    "pdf = stats.t.pdf(x, df, loc, scale)\n",
    "plt.plot(x, pdf)\n",
    "plt.title(r'$p(\\tilde{y}|y)$', fontsize=20)\n",
    "\n",
    "print \"Mode: %f\" % y_bar\n",
    "print \"95 percent central interval: %s\" % (stats.t.interval(0.95, df, loc, scale),)"
   ]
  },
  {
   "cell_type": "markdown",
   "metadata": {},
   "source": [
    "## 2. Inference for difference between proportions (3 points)\n",
    "An experiment was performed to estimate the effect of beta-blockers on mortality of cardiac pa- tients. A group of patients were randomly assigned to treatment and control groups: out of 674 patients receiving the control, 39 died, and out of 680 receiving the treatment, 22 died. Assume that the outcomes are independent and binomially distributed, with probabilities of death of p0 and p1 under the control and treatment, respectively. Set up a noninformative or weakly informative prior distribution on (p0, p1).\n",
    " \n",
    "**a) Summarize the posterior distribution for the odds ratio, (p1/(1 − p1))/(p0/(1 − p0)).**\n",
    " \n",
    "**b) Discuss the sensitivity of your inference to your choice of prior density.**\n",
    "\n",
    "Hint: With a conjugate prior a closed form posterior is Beta form for each group separately (see equations in the book). You can use betarnd to sample from the posterior distrbutions of p0 and p1, and use these samples and odds ratio equation to get samples from the distribution of the odds ratio. You can use hist (or histogram in the newer Matlab) function for visualisation and prctile function to compute point estimates and intervals.\n",
    "## 3. Inference for difference between normal means (3 points)\n",
    "Consider a case where the same factory has two production lines for manufacturing car wind- shields. Independent samples from the two production lines were tested for hardness. The hard- ness measurements for the two samples y1 and y2 are given in the files windshieldy1.txt and windshieldy2.txt.\n",
    "We assume that the samples have unknown standard deviations σ1 and σ2. Use uninformative or weakly informative priors and answer the following questions:\n",
    "\n",
    "**a) What can you say about μd = μ1 − μ2?. Summarize your results using Bayesian point and interval estimates.**\n",
    "\n",
    "**b) Are the means the same?**\n",
    "\n",
    "Hint: With a conjugate prior a closed form posterior is Student’s t form for each group separately (see equations in the book). You can use trnd to sample from the posterior distrbutions of μ1 and μ2, and use these samples to get samples from the distribution of the difference μd = μ1 −μ2. You can use hist (or histogram in the newer Matlab) function for visualisation and prctile function to compute point estimates and intervals. Note that trnd function is for standardized Student-t with mean 0 and scale 1, so you need to do the scaling and translation yourself.\n"
   ]
  },
  {
   "cell_type": "code",
   "execution_count": null,
   "metadata": {
    "collapsed": true
   },
   "outputs": [],
   "source": []
  }
 ],
 "metadata": {
  "kernelspec": {
   "display_name": "Python 2",
   "language": "python",
   "name": "python2"
  },
  "language_info": {
   "codemirror_mode": {
    "name": "ipython",
    "version": 2
   },
   "file_extension": ".py",
   "mimetype": "text/x-python",
   "name": "python",
   "nbconvert_exporter": "python",
   "pygments_lexer": "ipython2",
   "version": "2.7.11"
  }
 },
 "nbformat": 4,
 "nbformat_minor": 0
}
