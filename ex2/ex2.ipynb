{
 "cells": [
  {
   "cell_type": "markdown",
   "metadata": {},
   "source": [
    "## 1. Inference for normal mean and deviation (3 points)\n",
    "A factory has a production line for manufacturing car windshields. A sample of windshields has\n",
    "been taken for testing hardness. The observed hardness values y can be found in file windshieldy1.txt.\n",
    "We may assume that the observations follow a normal distribution with an unknown standard deviation $\\sigma$. We wish to obtain information about the unknown average hardness μ. Formulate the Bayesian model with uninformative or weakly informative prior and answer the following questions:\n",
    "\n",
    "**a) What can you say about the unknown $\\mu$? Summarize your results using Bayesian point and interval estimates.**"
   ]
  },
  {
   "cell_type": "markdown",
   "metadata": {},
   "source": [
    "Assuming the windshield hardness is normally distributed and i.i.d\n",
    "\n",
    "$$p(y_i|\\mu,\\sigma^2) = \\mathcal{N}(\\mu, \\sigma^2) = \\frac{1}{\\sigma\\sqrt{2\\pi}}e^{-\\frac{(y_i-\\mu)^2}{2\\sigma^2}}$$\n",
    "\n",
    "$$p(y|\\mu, \\sigma^2) = \\prod_{i=1}^n p(y_i | \\mu, \\sigma^2)$$\n",
    "\n",
    "Choosing a non-informative prior for $\\mu$ and $\\sigma^2$\n",
    "\n",
    "$$p(\\mu, \\sigma^2) = \\sigma^{-2}$$\n",
    "\n",
    "Using bayes rule the posterior is\n",
    "\n",
    "$$p(\\mu, \\sigma^2|y) = \\frac{p(\\mu, \\sigma^2)p(y|\\mu, \\sigma^2)}{p(y)}$$\n",
    "\n",
    "Dropping the normalizing term\n",
    "\n",
    "$$p(\\mu, \\sigma^2|y) \\propto p(\\mu, \\sigma^2)p(y|\\mu, \\sigma^2)$$\n",
    "\n",
    "Inserting the definitions of $p(\\mu, \\sigma^2)$ and $p(y|\\mu, \\sigma^2)$\n",
    "\n",
    "$$p(\\mu, \\sigma^2|y) \\propto  \\sigma^{-2} \\prod_{i=1}^n \\frac{1}{\\sigma\\sqrt{2\\pi}} e^{-\\frac{(y_i-\\mu)^2}{2\\sigma^2}}$$\n",
    "\n",
    "Rearranging\n",
    "\n",
    "$$p(\\mu, \\sigma^2|y) \\propto  \\sigma^{-2} \\frac{1}{\\sigma\\sqrt{2\\pi}}^n \\prod_{i=1}^n e^{-\\frac{(y_i-\\mu)^2}{2\\sigma^2}}$$\n",
    "\n",
    "Dropping the constant term $\\left(\\frac{1}{\\sqrt{2\\pi}}\\right)^n$\n",
    "\n",
    "$$p(\\mu, \\sigma^2|y) \\propto  \\sigma^{-2}\\sigma^{-n}\\prod_{i=1}^n e^{-\\frac{(y_i-\\mu)^2}{2\\sigma^2}}$$\n",
    "\n",
    "Using that $\\prod_x e^x = e^{\\sum_x x}$\n",
    "\n",
    "$$p(\\mu, \\sigma^2|y) \\propto  \\sigma^{-2-n} exp\\left(-\\frac{1}{2\\sigma^2}\\sum_{i=1}^n(y_i-\\mu)^2\\right)$$\n",
    "\n",
    "Adding and subtracting $\\bar{y}$\n",
    "\n",
    "$$p(\\mu, \\sigma^2|y) \\propto  \\sigma^{-2-n} exp\\left(-\\frac{1}{2\\sigma^2}\\sum_{i=1}^n((y_i-\\bar{y})-(\\mu-\\bar{y}))^2\\right)$$\n",
    "\n",
    "Expanding the square using $(a-b)^2 = a^2+b^2-2ab$\n",
    "\n",
    "$$p(\\mu, \\sigma^2|y) \\propto  \\sigma^{-2-n} exp\\left(-\\frac{1}{2\\sigma^2}\\sum_{i=1}^n\\left[(y_i-\\bar{y})^2+(\\mu-\\bar{y})^2-2(y_i-\\bar{y})(\\mu-\\bar{y})\\right]\\right)$$\n",
    "\n",
    "Splitting the sum.\n",
    "\n",
    "$$p(\\mu, \\sigma^2|y) \\propto  \\sigma^{-2-n} exp\\left(-\\frac{1}{2\\sigma^2}\\left(\\sum_{i=1}^n\\left[(y_i-\\bar{y})^2+(\\mu-\\bar{y})^2\\right]-2(\\mu-\\bar{y})\\sum_{i=1}^n\\left[y_i-\\bar{y}\\right]\\right)\\right)$$\n",
    "\n",
    "The last sum is the sum of differences between y and the mean of y, which is 0.\n",
    "\n",
    "$$p(\\mu, \\sigma^2|y) \\propto  \\sigma^{-2-n} exp\\left(-\\frac{1}{2\\sigma^2}\\sum_{i=1}^n\\left[(y_i-\\bar{y})^2+(\\mu-\\bar{y})^2\\right]\\right)$$\n",
    "\n",
    "The last element of the sum does not depend on $i$\n",
    "\n",
    "$$p(\\mu, \\sigma^2|y) \\propto  \\sigma^{-2-n} exp\\left(-\\frac{1}{2\\sigma^2} \\left( n(\\mu-\\bar{y})^2 + \\sum_{i=1}^n (y_i-\\bar{y})^2\\right)\\right)$$\n",
    "\n",
    "Inserting $s=\\frac{1}{n-1}\\sum_{i=1}^n(y_i-\\bar{y})^2$, the sample variance of $y$\n",
    "\n",
    "$$p(\\mu, \\sigma^2|y) \\propto  \\sigma^{-2-n} exp\\left(-\\frac{1}{2\\sigma^2} \\left( n(\\mu-\\bar{y})^2 + (1+n)s\\right)\\right)$$\n",
    "\n",
    "We're interested in the marginal posterior of $\\mu$, so we'll integrate $\\sigma^2$ out\n",
    "\n",
    "$$p(\\mu|y) \\propto \\int_0^{\\infty} \\sigma^{-2-n} exp\\left(-\\frac{1}{2\\sigma^2} \\left( n(\\mu-\\bar{y})^2 + (1+n)s\\right)\\right)d\\sigma^2$$\n",
    "\n",
    "Substituting $z=\\frac{A}{2\\sigma^2}$, $d\\sigma^2 = -\\frac{2}{A}\\sigma^4dz$ and $\\sigma = \\left(\\frac{A}{2z}\\right)^{1/2}$ and $A=(n-1)s^2+n(\\mu-\\bar{y})^2$\n",
    "\n",
    "$$p(\\mu|y) \\propto \\int_{\\infty}^0 -\\left(\\frac{A}{2z}\\right)^{(-2-n)/2} e^{-z} \\frac{2}{A}\\left(\\frac{A}{2z}\\right)^2dz $$\n",
    "\n",
    "Gathering the $\\frac{A}{2z}$ elements\n",
    "\n",
    "$$p(\\mu|y) \\propto \\int_{\\infty}^0 -\\left(\\frac{A}{2z}\\right)^{(-2-n)/2+2} e^{-z} \\frac{2}{A}dz $$\n",
    "\n",
    "Simplifying the exponent\n",
    "\n",
    "$$p(\\mu|y) \\propto \\int_{\\infty}^0 -\\left(\\frac{A}{2z}\\right)^{(2-n)/2} e^{-z} \\frac{2}{A}dz $$\n",
    "\n",
    "Swapping the limits of integration using $\\int_a^b f(x) = -\\int_b^a f(x)$\n",
    "\n",
    "$$p(\\mu|y) \\propto \\int_0^{\\infty} \\left(\\frac{A}{2z}\\right)^{(2-n)/2} e^{-z} \\frac{2}{A}dz $$\n",
    "\n",
    "Separating the fraction\n",
    "\n",
    "$$p(\\mu|y) \\propto \\int_0^{\\infty} \\left(\\frac{A}{2}\\right)^{(2-n)/2}\\left(\\frac{1}{z}\\right)^{(2-n)/2} e^{-z} \\frac{2}{A}dz $$\n",
    "\n",
    "Gathering the $\\frac{A}{2}$ elements\n",
    "\n",
    "$$p(\\mu|y) \\propto \\int_0^{\\infty} \\left(\\frac{A}{2}\\right)^{(2-n)/2-1}\\left(\\frac{1}{z}\\right)^{(2-n)/2} e^{-z} dz $$\n",
    "\n",
    "Simplifying the exponents, and moving the term that does not depend on $z$ outside the integral\n",
    "\n",
    "$$p(\\mu|y) \\propto \\left(\\frac{A}{2}\\right)^{-n/2} \\int_0^{\\infty} z^{(n-2)/2} e^{-z} dz $$\n",
    "\n",
    "Dropping the constant term $\\left(\\frac{1}{2}\\right)^{-n/2}$\n",
    "\n",
    "$$p(\\mu|y) \\propto A^{-n/2} \\int_0^{\\infty} z^{(n-2)/2} e^{-z} dz $$\n",
    "\n",
    "$z$ is a positive real number so the integral is a gamma function which value does not depend on $z$, but only on $n$. As such we can treat it as a constant and drop it.\n",
    "\n",
    "$$p(\\mu|y) \\propto A^{-n/2} $$\n",
    "\n",
    "Inserting the definition of A\n",
    "\n",
    "$$p(\\mu|y) \\propto ((n-1)s^2+n(\\mu-\\bar{y})^2)^{-n/2} $$\n",
    "\n",
    "We divide by $(n-1)s^2$ which we can do since it's a constant term\n",
    "\n",
    "$$p(\\mu|y) \\propto \\left[1+\\frac{n(\\mu-\\bar{y})^2}{(n-1)s^2}\\right]^{-n/2} $$\n"
   ]
  },
  {
   "cell_type": "code",
   "execution_count": null,
   "metadata": {
    "collapsed": true
   },
   "outputs": [],
   "source": []
  },
  {
   "cell_type": "code",
   "execution_count": 53,
   "metadata": {
    "collapsed": false
   },
   "outputs": [
    {
     "name": "stdout",
     "output_type": "stream",
     "text": [
      "9\n",
      "14.6112222222\n",
      "2.17315294444\n",
      "10.0\n",
      "14.61122\n",
      "0.19555223556\n",
      "1.9555223556\n"
     ]
    },
    {
     "data": {
      "text/plain": [
       "[<matplotlib.lines.Line2D at 0x10d0b9110>]"
      ]
     },
     "execution_count": 53,
     "metadata": {},
     "output_type": "execute_result"
    },
    {
     "data": {
      "image/png": "[encoded data removed]",
      "text/plain": [
       "<matplotlib.figure.Figure at 0x1090a0d90>"
      ]
     },
     "metadata": {},
     "output_type": "display_data"
    }
   ],
   "source": [
    "%matplotlib inline\n",
    "import matplotlib.pyplot as plt\n",
    "import scipy.stats as stats\n",
    "import numpy as np\n",
    "data = np.loadtxt('windshieldy1.txt')\n",
    "\n",
    "kappa_0 = 1.\n",
    "sigma_0_squared = 2.17\n",
    "mu_0 = 14.6112\n",
    "nu_0 = 1.\n",
    "\n",
    "n = data.size\n",
    "y_hat = data.mean()\n",
    "s_squared = data.var(ddof=1)\n",
    "\n",
    "mu_n = kappa_0/(kappa_0+n)*mu_0 + n/(kappa_0+n)*y_hat\n",
    "kappa_n = kappa_0 + n\n",
    "nu_n = nu_0 + n\n",
    "sigma_n_squared = (1/nu_n)*(nu_0*sigma_0_squared + (n-1)*s_squared + (kappa_0*n)/(kappa_0+n)*((y_hat-mu_0)**2))\n",
    "\n",
    "df = nu_n\n",
    "loc = mu_n\n",
    "scale = sigma_n_squared / kappa_n\n",
    "\n",
    "print n\n",
    "print y_hat\n",
    "print s_squared\n",
    "print df\n",
    "print loc\n",
    "print scale\n",
    "print sigma_n_squared\n",
    "\n",
    "x = np.linspace(10,20,1000)\n",
    "\n",
    "#print \"Mode: %f\"%((a-1)/(a+b-2))\n",
    "#print \"95 central interval: %s\"%(stats.beta.interval(0.95,int(a),int(b)),)\n",
    "\n",
    "pdf = stats.t.pdf(x, df, loc, scale)\n",
    "pdf2 = (1+((kappa_n*(x-mu_n)**2)/(nu_n*sigma_n_squared)))**(-nu_n+1)/2\n",
    "plt.plot(x, stats.norm.pdf(x, y_hat, np.sqrt(s_squared)), 'b')\n",
    "plt.plot(x, pdf, 'r')\n",
    "plt.plot(x, pdf2, 'g')\n",
    "#plt.legend()"
   ]
  },
  {
   "cell_type": "markdown",
   "metadata": {},
   "source": [
    "**b) What can you say about the hardness of the next windshield coming from the production line before actually measuring the hardness?**\n",
    "Hint: With a conjugate prior a closed form posterior is Student’s t form (see equations in the book). You can then use tpdf and tcdf functions in Matlab. Note that these functions are for standardized Student-t with mean 0 and scale 1, so you need to do the scaling and translation yourself.\n",
    "## 2. Inference for difference between proportions (3 points)\n",
    "An experiment was performed to estimate the effect of beta-blockers on mortality of cardiac pa- tients. A group of patients were randomly assigned to treatment and control groups: out of 674 patients receiving the control, 39 died, and out of 680 receiving the treatment, 22 died. Assume that the outcomes are independent and binomially distributed, with probabilities of death of p0 and p1 under the control and treatment, respectively. Set up a noninformative or weakly informative prior distribution on (p0, p1).\n",
    " \n",
    "**a) Summarize the posterior distribution for the odds ratio, (p1/(1 − p1))/(p0/(1 − p0)).**\n",
    " \n",
    "**b) Discuss the sensitivity of your inference to your choice of prior density.**\n",
    "\n",
    "Hint: With a conjugate prior a closed form posterior is Beta form for each group separately (see equations in the book). You can use betarnd to sample from the posterior distrbutions of p0 and p1, and use these samples and odds ratio equation to get samples from the distribution of the odds ratio. You can use hist (or histogram in the newer Matlab) function for visualisation and prctile function to compute point estimates and intervals.\n",
    "## 3. Inference for difference between normal means (3 points)\n",
    "Consider a case where the same factory has two production lines for manufacturing car wind- shields. Independent samples from the two production lines were tested for hardness. The hard- ness measurements for the two samples y1 and y2 are given in the files windshieldy1.txt and windshieldy2.txt.\n",
    "We assume that the samples have unknown standard deviations σ1 and σ2. Use uninformative or weakly informative priors and answer the following questions:\n",
    "\n",
    "**a) What can you say about μd = μ1 − μ2?. Summarize your results using Bayesian point and interval estimates.**\n",
    "\n",
    "**b) Are the means the same?**\n",
    "\n",
    "Hint: With a conjugate prior a closed form posterior is Student’s t form for each group separately (see equations in the book). You can use trnd to sample from the posterior distrbutions of μ1 and μ2, and use these samples to get samples from the distribution of the difference μd = μ1 −μ2. You can use hist (or histogram in the newer Matlab) function for visualisation and prctile function to compute point estimates and intervals. Note that trnd function is for standardized Student-t with mean 0 and scale 1, so you need to do the scaling and translation yourself.\n"
   ]
  },
  {
   "cell_type": "code",
   "execution_count": null,
   "metadata": {
    "collapsed": true
   },
   "outputs": [],
   "source": []
  }
 ],
 "metadata": {
  "kernelspec": {
   "display_name": "Python 2",
   "language": "python",
   "name": "python2"
  },
  "language_info": {
   "codemirror_mode": {
    "name": "ipython",
    "version": 2
   },
   "file_extension": ".py",
   "mimetype": "text/x-python",
   "name": "python",
   "nbconvert_exporter": "python",
   "pygments_lexer": "ipython2",
   "version": "2.7.11"
  }
 },
 "nbformat": 4,
 "nbformat_minor": 0
}
