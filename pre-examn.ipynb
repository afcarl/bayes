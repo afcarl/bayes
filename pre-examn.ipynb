{
 "cells": [
  {
   "cell_type": "code",
   "execution_count": 1,
   "metadata": {
    "collapsed": false
   },
   "outputs": [],
   "source": [
    "%matplotlib inline\n",
    "import matplotlib.pyplot as plt\n",
    "import scipy.stats as stats\n",
    "import numpy as np"
   ]
  },
  {
   "cell_type": "markdown",
   "metadata": {},
   "source": [
    "# Ex 1"
   ]
  },
  {
   "cell_type": "code",
   "execution_count": 2,
   "metadata": {
    "collapsed": false
   },
   "outputs": [
    {
     "data": {
      "text/plain": [
       "[<matplotlib.lines.Line2D at 0x1080357d0>]"
      ]
     },
     "execution_count": 2,
     "metadata": {},
     "output_type": "execute_result"
    },
    {
     "data": {
      "image/png": "[encoded data removed]",
      "text/plain": [
       "<matplotlib.figure.Figure at 0x107685510>"
      ]
     },
     "metadata": {},
     "output_type": "display_data"
    }
   ],
   "source": [
    "# ex 1.a\n",
    "u = 0.2\n",
    "s = 0.01\n",
    "a = u*(u*(1-u)/s-1)\n",
    "b = a*(1-u)/u\n",
    "x = np.linspace(0, 1, 100)\n",
    "pdf = stats.beta.pdf(x, a, b)\n",
    "plt.plot(x, pdf, label='beta pdf')"
   ]
  },
  {
   "cell_type": "code",
   "execution_count": 3,
   "metadata": {
    "collapsed": false
   },
   "outputs": [
    {
     "data": {
      "image/png": "[encoded data removed]",
      "text/plain": [
       "<matplotlib.figure.Figure at 0x1080967d0>"
      ]
     },
     "metadata": {},
     "output_type": "display_data"
    }
   ],
   "source": [
    "# ex 1.b\n",
    "r = stats.beta.rvs(a, b, size=1000)\n",
    "_ = plt.hist(r, 50, normed=True)\n",
    "plt.plot(x, pdf, 'r', label='beta pdf')\n",
    "plt.show()"
   ]
  },
  {
   "cell_type": "code",
   "execution_count": 4,
   "metadata": {
    "collapsed": false
   },
   "outputs": [],
   "source": [
    "# ex 1.c\n",
    "assert np.abs(np.mean(r)-u) < 0.01\n",
    "assert np.abs(np.var(r)-s) < 0.01"
   ]
  },
  {
   "cell_type": "code",
   "execution_count": 5,
   "metadata": {
    "collapsed": false
   },
   "outputs": [
    {
     "data": {
      "text/plain": [
       "(0.042812633630736799, 0.4322069132123858)"
      ]
     },
     "execution_count": 5,
     "metadata": {},
     "output_type": "execute_result"
    }
   ],
   "source": [
    "# ex 1.d\n",
    "lower = np.percentile(r, 2.5)\n",
    "upper = np.percentile(r, 97.5)\n",
    "(lower, upper)"
   ]
  },
  {
   "cell_type": "markdown",
   "metadata": {},
   "source": [
    "# Ex 2\n",
    "\n",
    "Given a test which can have a positive ($pos$) or a negative ($neg$) outcome, and a person that can either have cancer ($cancer$) or not ($\\neg cancer$). There are 4 possible outcomes:\n",
    " * $pos$ and $cancer$\n",
    " * $neg$ and $\\neg cancer$\n",
    " * $pos$ and $\\neg cancer$\n",
    " * $neg$ and $cancer$\n",
    " \n",
    "These are given:\n",
    "\n",
    "\\begin{align}\n",
    "P(pos | cancer) &= 0.98 \\\\\n",
    "P(neg | \\neg cancer) &= 0.96 \\\\\n",
    "P(cancer) &= 0.001\n",
    "\\end{align}\n",
    "\n",
    "Let us assume the test is free, it costs $c_1$ to not treat someone who has cancer, and that it costs $c_2$ to treat someone of cancer, whether they have it or not.\n",
    "\n",
    "We need to pick one of two scenarios:\n",
    "1. We test no-one, and treat no-one.\n",
    "2. We test everyone, and treat everyone tested positive.\n",
    "\n",
    "To do that we'll calculate the probability of each of the outcomes, under the two scenarios, and calculate the weighted average cost $C$, and pick the scenario with the smallest cost. \n",
    "\n",
    "It's easy to calculate the weighted average cost for scenario 1, since no-one will get treated, the only cost left is not treating someone with cancer, $c_1$:\n",
    "\n",
    "\\begin{align}\n",
    "C_1 &= c_1P(cancer) \\\\\\\\\n",
    "C_1 &= 0.001c_1\n",
    "\\end{align}\n",
    "\n",
    "For the second scenario the cost is the following\n",
    "\n",
    "\\begin{align}\n",
    "C_2 &= c_1P(cancer|neg) + c_2P(pos) \\\\\\\\\n",
    "C_2 &= c_1P(cancer|neg) + c_2(P(pos|cancer)P(cancer) + (1-P(neg|\\neg cancer))P(\\neg cancer)) \\\\\\\\\n",
    "\\end{align}\n",
    "\n",
    "To find $P(cancer|neg)$ we need to use Bayes law so here it is for reference:\n",
    "\n",
    "\\begin{align}\n",
    "P( A | B ) &= \\frac{ P(B | A) P(A) } {P(B)} \\\\\n",
    "\\end{align}\n",
    "\n",
    "Using bayes law we get\n",
    "\n",
    "\\begin{align}\n",
    "P(cancer|neg) &= \\frac{ P(neg|cancer)P(cancer) } { P(neg) } \\\\\\\\\n",
    "P(cancer|neg) &= \\frac{ (1-P(pos|cancer))P(cancer) } { P(neg|cancer)P(cancer)+P(neg|\\neg cancer)P(\\neg cancer) } \\\\\\\\\n",
    "P(cancer|neg) &= \\frac{ (1-P(pos|cancer))P(cancer) } { (1-P(pos|cancer))P(cancer)+P(neg|\\neg cancer)P(\\neg cancer) } \\\\\\\\\n",
    "P(cancer|neg) &= \\frac{ (1-0.98) \\cdot 0.001 } { (1 - 0.98)\\cdot 0.001 + 0.96\\cdot(1-0.001)} \\\\\\\\\n",
    "P(cancer|neg) &= 0.00002085375\n",
    "\\end{align}\n",
    "\n",
    "Now we can find $C_2$\n",
    "\n",
    "\\begin{align}\n",
    "C_2 &= 0.00002085375c_1 + 0.04094c_2\n",
    "\\end{align}\n",
    "\n",
    "Scenario two is best if the cost is lower.\n",
    "\n",
    "\\begin{align}\n",
    "C_2 &< C_1 \\\\\\\\\n",
    "0.00002085375c_1 + 0.04094c_2 &< 0.001c_1 \\\\\\\\\n",
    "c_2 &< 0.0239166c_1\n",
    "\\end{align}\n",
    "\n"
   ]
  }
 ],
 "metadata": {
  "kernelspec": {
   "display_name": "Python 2",
   "language": "python",
   "name": "python2"
  },
  "language_info": {
   "codemirror_mode": {
    "name": "ipython",
    "version": 2
   },
   "file_extension": ".py",
   "mimetype": "text/x-python",
   "name": "python",
   "nbconvert_exporter": "python",
   "pygments_lexer": "ipython2",
   "version": "2.7.11"
  }
 },
 "nbformat": 4,
 "nbformat_minor": 0
}
