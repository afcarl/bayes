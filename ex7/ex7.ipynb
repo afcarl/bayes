{
 "cells": [
  {
   "cell_type": "markdown",
   "metadata": {},
   "source": [
    "# Design of Experiments for the bioassay (6p)\n",
    "This exercise is an example of Design of Experiments (DOE). In DOE our aim is to design an experiment such that we obtain as much information as possible from the measurement(s). This is extremely important if the individual experiments are slow and/or expensive. For example, it is economically unsound to stop the production processes of a factory for a long time. It is also possible to perform DOE stepwise by computing after each experiment what is the next most useful experiment.\n",
    "\n",
    "Use the bioassay experiment data and model. The interesting quantity is the value of LD50. Consider a situation, where the current posterior uncertainty of LD50 is too high for public authorities. In order to avoid exposing animals to poison unnecessarily, compute which dose level in a new experiment would reduce the posterior variance in LD50 most.\n",
    "\n",
    "For simplicity, the new experiment will involve only a single rat which will be exposed to one of the dose levels specified in the book. Your task is to decide which dose level should be used in the experiment.\n",
    "\n",
    "Compute with each dose level how the posterior would change if the animal \n",
    "1) died\n",
    "2) survived.\n",
    "Compute with each dose level what is the probability that the animal\n",
    "1) dies\n",
    "2) survives.\n",
    "\n",
    "Combine the information into the expected utility (reduction in the posterior variance).\n",
    "\n",
    "Hints and further information:\n",
    "\n",
    "* For integrating over the posterior distribution of the parameters, use the adaptive Simpson quadrature method. This is illustrated in the Matlab template file bioassay_doe.m, which uses the following helper functions: bioassayp.m and dblquadvec.m. Python users, see bioassay_doe.py.\n",
    "* Quadrature methods are suitable for fairly smooth 1-3 dimensional integrals and they are often faster than grid sampling or MCMC. In this particular problem, for example, the Monte Carlo error in the MCMC-integration may be so large that we would need a fairly large number of samples in order to get high enough precision. With a quadrature algorithm, however, the integration is fast and the amount of code you have to write for implementation is less than 10 lines. This way you can concentrate on the actual evaluations of the experiment design problem.\n",
    "\n",
    "A couple of comments on the Design of Experiments\n",
    "\n",
    "Design of experiments can be also done sequentially one experiment at a time if the cost of an experiment is high. The next experiment is designed after the result of the first experiment is known. This way the maximum amount of information is gained. The experiments are continued until the desired accuracy is reached.\n",
    "\n",
    "Alternatively it is possible to do multiple experiments at a time if the cost of the experiments is not significantly higher this way. In an animal experiment one can think that each animal has high cost, but doing the experiments sequentially would take more time. If the results are needed quickly it is reasonable to do multiple experiments at a time."
   ]
  },
  {
   "cell_type": "code",
   "execution_count": 32,
   "metadata": {
    "collapsed": false
   },
   "outputs": [
    {
     "name": "stdout",
     "output_type": "stream",
     "text": [
      "dose: -0.860000\t expected utility: 0.000012\n",
      "dose: -0.300000\t expected utility: 0.000344\n",
      "dose: -0.050000\t expected utility: 0.000901\n",
      "dose: 0.730000\t expected utility: 0.000172\n"
     ]
    }
   ],
   "source": [
    "import numpy as np\n",
    "import scipy.integrate as integ\n",
    "from scipy.special import expit\n",
    "from scipy.stats import binom\n",
    "\n",
    "# this is a template file for the DOE-exercise for Bayesian data analysis.\n",
    "def bioassayp(a,b,x,y,n):\n",
    "    '''unnormalized posterior density for bioassay'''\n",
    "    \n",
    "    \n",
    "    t = a+b*x\n",
    "    et = np.exp(t)\n",
    "    z = et/(1.+et)\n",
    "\n",
    "    # Ensure that log(z) and log(1-z) are computable\n",
    "    eps = 1e-16\n",
    "    z = np.minimum(z, 1.-eps)\n",
    "    z = np.maximum(z, eps)\n",
    "    \n",
    "    p = np.exp(np.sum(y*np.log(z)+ (n-y)*np.log(1.-z)))\n",
    "    return p\n",
    "    \n",
    "\n",
    "# Bioassay data, (BDA3 page 74)\n",
    "x = np.array([-.86, -.30, -.05, .73])\n",
    "n = np.array([5., 5., 5., 5.])\n",
    "y = np.array([0., 1., 3., 5.])\n",
    "\n",
    "# Define function that computes the normalization term by integrating function\n",
    "# bioassayp.m with the given data x,y,n over the region a=[-4,8], b=[1,40] \n",
    "# (outside this region, density should be very small) \n",
    "Z = lambda x,y,n: integ.dblquad( lambda b,a: bioassayp(a,b,x,y,n), -4., 8., lambda a: 1., lambda a: 40.)[0]\n",
    "\n",
    "# Create a helper function for evaluating expectation of \n",
    "# a function g(a,b) over the posterior of a and b given x, y and n \n",
    "# note that normalization term Z is taken into account\n",
    "bioint = lambda g,x,y,n: integ.dblquad(lambda b,a: g(a,b)*bioassayp(a,b,x,y,n), -4., 8., lambda a: 1., lambda a: 40.)[0] / Z(x,y,n)\n",
    "\n",
    "# Using bioint function defined above, you can compute the\n",
    "# expectation of any function g(a,b). For example, compute the\n",
    "# posterior expectation of LD50, where LD50=g(-a/b)\n",
    "# bioint integrates over the posterior of a and b given x, y and n\n",
    "# using lambda function 'lambda a,b: -a/b' which computes -a/b\n",
    "# (You can compare the result with results from the grid-sampling,\n",
    "#  normal approximation and Monte Carlo approximation.)\n",
    "ld50_mean_old = bioint(lambda a,b: -a/b, x, y, n)\n",
    "ld50_var_old = bioint(lambda a,b: (-a/b - ld50_mean_old)**2, x, y, n)\n",
    "\n",
    "# When computing other expectations, replace '-a/b' with\n",
    "# any equation involving a,b,x,y, or n. That equation implements\n",
    "# function of a and b, where x,y, and n are available constants.\n",
    "\n",
    "# Note that new experiments can easily be added to previous experiments\n",
    "# with concatenation. For example, computing expected LD50 given\n",
    "# result of the new experiment with a dose xt and no death as a result\n",
    "nn = np.hstack((n, 1))\n",
    "\n",
    "for dose in x:\n",
    "    xx = np.hstack((x, dose))\n",
    "    \n",
    "    prob = np.zeros(2)\n",
    "    utility = np.zeros(2)\n",
    "    \n",
    "    for outcome in [0, 1]:\n",
    "        prob[outcome] = bioint(lambda a,b: binom.pmf(outcome, 1, expit(a + b * dose)), x, y, n)\n",
    "        \n",
    "        yy = np.hstack((y, outcome))\n",
    "        ld50_mean = bioint(lambda a,b: -a/b, xx, yy, nn)\n",
    "        ld50_var = bioint(lambda a,b: (-a/b - ld50_mean)**2, xx, yy, nn)\n",
    "        \n",
    "        utility[outcome] = ld50_var_old - ld50_var\n",
    "\n",
    "    print \"dose: %f\\t expected utility: %f\" % (dose, np.sum(prob*utility))\n"
   ]
  },
  {
   "cell_type": "code",
   "execution_count": null,
   "metadata": {
    "collapsed": true
   },
   "outputs": [],
   "source": []
  }
 ],
 "metadata": {
  "kernelspec": {
   "display_name": "Python 2",
   "language": "python",
   "name": "python2"
  },
  "language_info": {
   "codemirror_mode": {
    "name": "ipython",
    "version": 2
   },
   "file_extension": ".py",
   "mimetype": "text/x-python",
   "name": "python",
   "nbconvert_exporter": "python",
   "pygments_lexer": "ipython2",
   "version": "2.7.11"
  }
 },
 "nbformat": 4,
 "nbformat_minor": 0
}
