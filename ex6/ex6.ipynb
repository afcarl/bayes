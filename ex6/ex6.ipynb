{
 "cells": [
  {
   "cell_type": "markdown",
   "metadata": {},
   "source": [
    "### Model assessment: LOO-CV for factory data with Stan (6p)\n",
    "\n",
    "Use leave-one-out cross validation (LOO-CV) to assess the predictive performance of the pooled, separate and hierarchical Gaussian models for the factory dataset (see the second exercise in Assignment 5). Use Stan for fitting the models, and the provided PSIS-LOO (Pareto smoothed importance sampling LOO) code for computing the approximate LOO-CV given the posterior samples provided by Stan. Your results should include:\n",
    "\n",
    " * PSIS-LOO values, the effective number of parameters peff, and the k-values for each of the three models\n",
    " * an assessment of whether there are differences between the models, and if so, which model should be selected according to PSIS-LOO\n",
    " \n",
    "Remember also to comment on the results. Hints and further advice:\n",
    "\n",
    " * In all the three models, use uniform priors for all the parameters to standardize the model assessment results, making the grading easier.\n",
    " * In the hierarchical model, use the same measurement deviation σ for all the machines. This is reasonable, since there are so few measurements per machine, so learning the deviations separately for each machine is difficult. If you want, you can also compute the PSIS-LOO value for the hierarchical model with different σj for each machine and see the effect in the estimated predictive performance (this is not, however, required for full points). For the separate model, you should still use different σj for each machine.\n",
    " * In order to use the psisloo-function, you need to compute the log-likelihood values for each observation and for all the posterior samples. This can be done in the generated quantities block; for a demonstration, see the Gaussian linear model for Kilpisjärvi data in the Matlab Stan examples.\n",
    " * It is reasonable to visualize the k-values for each model, so that you can easily see how many of these values fall in the range 0.5 < k < 1 or k > 1 to assess the reliability of the PSIS-LOO estimate for each of the models.\n",
    " * The estimated effective number of parameters in the model can be computed from equation (7.15) in the book, where lppdloo-cv is the PSIS-LOO value (first output argument of psisloo) and lppd is given by equation (7.5) in the book.\n",
    " * PSIS-LOO is a recently developed method for approxmating the exact LOO and is thus not in BDA3. For more information, see the lecture slides and the original paper by Vehtari, Gelman and Gabry (2015) on arXiv http://arxiv.org/pdf/1507.04544v2"
   ]
  },
  {
   "cell_type": "code",
   "execution_count": 30,
   "metadata": {
    "collapsed": false
   },
   "outputs": [
    {
     "name": "stdout",
     "output_type": "stream",
     "text": [
      "[[  83.  117.  101.  105.   79.   57.]\n",
      " [  92.  109.   93.  119.   97.   92.]\n",
      " [  92.  114.   92.  116.  103.  104.]\n",
      " [  46.  104.   86.  102.   79.   77.]\n",
      " [  67.   87.   67.  116.   92.  100.]]\n"
     ]
    }
   ],
   "source": [
    "%matplotlib inline\n",
    "import matplotlib.pyplot as plt\n",
    "from psis import psisloo\n",
    "import numpy as np\n",
    "import pystan\n",
    "\n",
    "plt.style.use('ggplot')\n",
    "plt.rc('figure', figsize=(16, 4))\n",
    "plt.rc('font', size=16)\n",
    "\n",
    "y = np.loadtxt('../ex5/factory.txt')\n",
    "print y"
   ]
  },
  {
   "cell_type": "code",
   "execution_count": 50,
   "metadata": {
    "collapsed": true
   },
   "outputs": [],
   "source": [
    "def p_eff(lppd_loo_cv, log_like):\n",
    "    \"\"\"\n",
    "    lppd_loo_cv: float\n",
    "    log_like: (n x m) log-likelihood of m data points, given n posterior samples.\n",
    "    \"\"\"\n",
    "    lppd = np.sum(np.log(np.mean(np.exp(log_like), axis=0)))\n",
    "    return lppd - lppd_loo_cv"
   ]
  },
  {
   "cell_type": "markdown",
   "metadata": {},
   "source": [
    "### Separate model"
   ]
  },
  {
   "cell_type": "code",
   "execution_count": 4,
   "metadata": {
    "collapsed": false
   },
   "outputs": [
    {
     "name": "stdout",
     "output_type": "stream",
     "text": [
      "Inference for Stan model: anon_model_211c5fad6404f77f6ba1b5cf3d50eb76.\n",
      "20 chains, each with iter=3000; warmup=1500; thin=1; \n",
      "post-warmup draws per chain=1500, total post-warmup draws=30000.\n",
      "\n",
      "                mean se_mean     sd   2.5%    25%    50%    75%  97.5%  n_eff   Rhat\n",
      "mu[0]          76.04    0.26  16.83   43.5  68.18  76.05   83.7 108.41 4303.0    1.0\n",
      "mu[1]         106.09    0.14   9.74  86.83 101.52 106.14 110.71 125.32 4683.0    1.0\n",
      "mu[2]          87.86    0.14  10.22  67.68  82.77  87.83  92.91 108.81 5101.0    1.0\n",
      "mu[3]         111.61    0.08   6.02  99.29 108.71 111.66  114.6 123.66 5129.0    1.0\n",
      "mu[4]           90.0    0.18   9.79  71.73  85.65  89.96  94.27 108.49 2884.0   1.01\n",
      "mu[5]          86.35    0.26  16.39  55.04  78.57  86.07   93.6 119.17 3999.0    1.0\n",
      "sigma[0]       31.14    0.35  21.52  12.79  19.28  25.33  35.59  84.21 3777.0    1.0\n",
      "sigma[1]       18.63    0.19  12.34   7.74  11.67  15.33  21.28  49.86 4255.0    1.0\n",
      "sigma[2]       20.02    0.18  12.72   8.38  12.57  16.63  23.14  52.42 4828.0    1.0\n",
      "sigma[3]        11.9    0.12    7.6   4.92   7.45   9.82  13.72  31.35 4318.0    1.0\n",
      "sigma[4]       17.38    0.23  12.94   7.09  10.65  14.09  19.75  47.18 3113.0    1.0\n",
      "sigma[5]       30.83    0.34  21.67  12.41  19.02  25.23  35.35  83.93 4061.0    1.0\n",
      "log_like[0,0]  -4.37  7.3e-3   0.49  -5.51  -4.65  -4.31  -4.02  -3.59 4499.0    1.0\n",
      "log_like[1,0]  -4.57  6.6e-3   0.48  -5.67  -4.85  -4.51  -4.23  -3.81 5287.0    1.0\n",
      "log_like[2,0]  -4.57  6.6e-3   0.48  -5.67  -4.85  -4.51  -4.23  -3.81 5287.0    1.0\n",
      "log_like[3,0]  -5.21  7.4e-3   0.74   -7.1  -5.52  -5.05  -4.71  -4.24  10004    1.0\n",
      "log_like[4,0]   -4.4  7.1e-3   0.49  -5.54  -4.68  -4.34  -4.05  -3.64 4643.0    1.0\n",
      "log_like[0,1]  -4.13  6.3e-3   0.48  -5.24   -4.4  -4.07  -3.79  -3.38 5812.0    1.0\n",
      "log_like[1,1]  -3.83  7.3e-3   0.49  -4.98  -4.11  -3.77  -3.48  -3.06 4555.0    1.0\n",
      "log_like[2,1]  -3.98  6.7e-3   0.47  -5.06  -4.25  -3.92  -3.64  -3.23 4968.0    1.0\n",
      "log_like[3,1]  -3.82  7.3e-3   0.49  -4.97   -4.1  -3.76  -3.47  -3.05 4558.0    1.0\n",
      "log_like[4,1]  -4.79  7.9e-3   0.79  -6.86  -5.12  -4.62  -4.27  -3.79  10004    1.0\n",
      "log_like[0,2]  -4.29  5.9e-3    0.5  -5.45  -4.57  -4.22  -3.94  -3.52 7190.0    1.0\n",
      "log_like[1,2]  -3.95  6.6e-3   0.48  -5.04  -4.23  -3.89  -3.61  -3.19 5198.0    1.0\n",
      "log_like[2,2]  -3.93  6.7e-3   0.48  -5.03  -4.21  -3.87  -3.58  -3.16 5137.0    1.0\n",
      "log_like[3,2]   -3.9  6.9e-3   0.49  -5.01  -4.18  -3.84  -3.54  -3.11 5042.0    1.0\n",
      "log_like[4,2]  -4.88  8.0e-3    0.8  -6.98  -5.21  -4.71  -4.35  -3.87  10004    1.0\n",
      "log_like[0,3]  -3.65  6.3e-3   0.47  -4.73  -3.93   -3.6  -3.32   -2.9 5618.0    1.0\n",
      "log_like[1,3]  -3.72  6.0e-3   0.48  -4.86   -4.0  -3.66  -3.38  -2.96 6557.0    1.0\n",
      "log_like[2,3]  -3.49  6.5e-3   0.47  -4.58  -3.76  -3.43  -3.16  -2.75 5135.0    1.0\n",
      "log_like[3,3]  -3.97  6.3e-3   0.57  -5.34  -4.26  -3.88  -3.58  -3.14 8186.0    1.0\n",
      "log_like[4,3]  -3.49  6.5e-3   0.47  -4.58  -3.76  -3.43  -3.16  -2.75 5135.0    1.0\n",
      "log_like[0,4]  -4.12  6.9e-3   0.51  -5.32   -4.4  -4.05  -3.76  -3.33 5454.0    1.0\n",
      "log_like[1,4]  -3.89  7.6e-3   0.49  -5.03  -4.17  -3.83  -3.55  -3.13 4107.0    1.0\n",
      "log_like[2,4]  -4.28  6.8e-3   0.56  -5.65  -4.57  -4.19  -3.89  -3.44 6883.0    1.0\n",
      "log_like[3,4]  -4.12  6.9e-3   0.51  -5.32   -4.4  -4.05  -3.76  -3.33 5454.0    1.0\n",
      "log_like[4,4]  -3.75  8.3e-3   0.51  -4.94  -4.03  -3.68  -3.39  -2.95 3787.0    1.0\n",
      "log_like[0,5]  -5.16  7.0e-3    0.7  -6.94  -5.46  -5.02  -4.68  -4.21  10004    1.0\n",
      "log_like[1,5]  -4.35  7.4e-3    0.5  -5.49  -4.64  -4.28  -3.99  -3.56 4480.0    1.0\n",
      "log_like[2,5]  -4.64  6.3e-3   0.48  -5.75  -4.91  -4.57   -4.3  -3.88 5808.0    1.0\n",
      "log_like[3,5]  -4.39  7.2e-3   0.49  -5.53  -4.67  -4.33  -4.04  -3.61 4654.0    1.0\n",
      "log_like[4,5]  -4.51  6.7e-3   0.47  -5.59  -4.78  -4.45  -4.17  -3.75 4965.0    1.0\n",
      "lp__          -81.27    0.05   3.16 -88.57 -83.12 -80.86 -78.96 -76.31 3899.0    1.0\n",
      "\n",
      "Samples were drawn using NUTS(diag_e) at Mon Apr 18 13:47:07 2016.\n",
      "For each parameter, n_eff is a crude measure of effective sample size,\n",
      "and Rhat is the potential scale reduction factor on split chains (at \n",
      "convergence, Rhat=1).\n"
     ]
    }
   ],
   "source": [
    "data_separate = {\n",
    "    'J': y.shape[0],\n",
    "    'K': y.shape[1],\n",
    "    'y': y\n",
    "}\n",
    "code_separate = \"\"\"\n",
    "data {\n",
    "    int<lower=1> J; // number of data points\n",
    "    int<lower=1> K; // number of groups \n",
    "    matrix[J,K]  y; // measurements\n",
    "}\n",
    "parameters {\n",
    "    vector[K] mu; // mean\n",
    "    vector<lower=0>[K] sigma; // std\n",
    "}\n",
    "model {\n",
    "    for (k in 1:K) {\n",
    "      y[:,k] ~ normal(mu[k], sigma[k]);\n",
    "    }\n",
    "}\n",
    "generated quantities {\n",
    "    matrix[J,K] log_like;\n",
    "\n",
    "    for(j in 1:J)\n",
    "        for (k in 1:K)\n",
    "            log_like[j,k] <- normal_log(y[j,k], mu[k], sigma[k]);\n",
    "}\n",
    "\"\"\"\n",
    "fit_separate = pystan.stan(model_code=code_separate, data=data_separate, iter=3000, chains=20)\n",
    "params_separate = fit_separate.extract()\n",
    "print fit_separate"
   ]
  },
  {
   "cell_type": "code",
   "execution_count": 63,
   "metadata": {
    "collapsed": false
   },
   "outputs": [
    {
     "name": "stdout",
     "output_type": "stream",
     "text": [
      "Sum PSIS-LOO LPD: -132.357732, p-eff: 9.803089 \n"
     ]
    },
    {
     "data": {
      "image/png": "[encoded data removed]",
      "text/plain": [
       "<matplotlib.figure.Figure at 0x118f33990>"
      ]
     },
     "metadata": {},
     "output_type": "display_data"
    }
   ],
   "source": [
    "ll = params_separate['log_like'].reshape(30000, -1)\n",
    "loo, loos, ks = psisloo(ll)\n",
    "\n",
    "plt.subplot(121)\n",
    "_=plt.hist(loos)\n",
    "_=plt.title('PSIS-LOO LPD')\n",
    "plt.subplot(122)\n",
    "_=plt.hist(ks)\n",
    "_=plt.title('k-values')\n",
    "print \"Sum PSIS-LOO LPD: %f, p-eff: %f \" % (loo, p_eff(loo, ll))"
   ]
  },
  {
   "cell_type": "markdown",
   "metadata": {},
   "source": [
    "### Combined model"
   ]
  },
  {
   "cell_type": "code",
   "execution_count": 52,
   "metadata": {
    "collapsed": false
   },
   "outputs": [
    {
     "name": "stdout",
     "output_type": "stream",
     "text": [
      "Inference for Stan model: anon_model_0eb95ce5f999fb6e61f8ede581120a4d.\n",
      "20 chains, each with iter=3000; warmup=1500; thin=1; \n",
      "post-warmup draws per chain=1500, total post-warmup draws=30000.\n",
      "\n",
      "               mean se_mean     sd   2.5%    25%    50%    75%  97.5%  n_eff   Rhat\n",
      "mu            92.88    0.04   3.47  85.97  90.61   92.9  95.15  99.68 7472.0    1.0\n",
      "sigma         18.81    0.03   2.62  14.55  16.95   18.5  20.31  24.81 7211.0    1.0\n",
      "log_like[0]   -4.01  1.7e-3   0.14   -4.3   -4.1   -4.0  -3.91  -3.75 7277.0    1.0\n",
      "log_like[1]   -4.73  3.0e-3   0.26  -5.32  -4.88   -4.7  -4.54   -4.3 7831.0    1.0\n",
      "log_like[2]   -3.96  1.6e-3   0.14  -4.25  -4.05  -3.95  -3.86  -3.71 7211.0    1.0\n",
      "log_like[3]   -4.08  1.7e-3   0.15  -4.39  -4.17  -4.07  -3.98  -3.82 7406.0    1.0\n",
      "log_like[4]   -4.15  1.8e-3   0.15  -4.47  -4.25  -4.14  -4.04  -3.87 7593.0    1.0\n",
      "log_like[5]   -5.78  5.9e-3   0.52  -6.95  -6.09  -5.73  -5.41  -4.94 7746.0    1.0\n",
      "log_like[6]   -3.86  1.7e-3   0.14  -4.15  -3.95  -3.85  -3.77  -3.61 6989.0    1.0\n",
      "log_like[7]   -4.25  1.9e-3   0.17  -4.61  -4.35  -4.23  -4.13  -3.95 7627.0    1.0\n",
      "log_like[8]   -3.86  1.7e-3   0.14  -4.15  -3.95  -3.85  -3.76  -3.61 6988.0    1.0\n",
      "log_like[9]   -4.88  3.4e-3    0.3  -5.55  -5.06  -4.85  -4.67   -4.4 7833.0    1.0\n",
      "log_like[10]  -3.89  1.6e-3   0.14  -4.17  -3.97  -3.88  -3.79  -3.64 7044.0    1.0\n",
      "log_like[11]  -3.86  1.7e-3   0.14  -4.15  -3.95  -3.85  -3.77  -3.61 6989.0    1.0\n",
      "log_like[12]  -3.86  1.7e-3   0.14  -4.15  -3.95  -3.85  -3.77  -3.61 6989.0    1.0\n",
      "log_like[13]  -4.53  2.5e-3   0.22  -5.01  -4.66   -4.5  -4.37  -4.16 7800.0    1.0\n",
      "log_like[14]  -3.86  1.7e-3   0.14  -4.15  -3.95  -3.85  -3.77  -3.61 6989.0    1.0\n",
      "log_like[15]  -4.66  2.8e-3   0.25  -5.21   -4.8  -4.63  -4.48  -4.25 7826.0    1.0\n",
      "log_like[16]  -4.01  1.7e-3   0.14  -4.31   -4.1   -4.0  -3.92  -3.76 7303.0    1.0\n",
      "log_like[17]  -4.05  1.7e-3   0.14  -4.35  -4.14  -4.04  -3.95  -3.79 7352.0    1.0\n",
      "log_like[18]  -7.14 10.0e-3   0.87  -9.09  -7.66  -7.06  -6.51   -5.7 7658.0    1.0\n",
      "log_like[19]  -4.05  1.7e-3   0.14  -4.35  -4.14  -4.04  -3.95  -3.79 7352.0    1.0\n",
      "log_like[20]  -3.93  1.6e-3   0.14  -4.22  -4.02  -3.92  -3.83  -3.68 7111.0    1.0\n",
      "log_like[21]  -3.98  1.6e-3   0.14  -4.28  -4.07  -3.98  -3.89  -3.73 7254.0    1.0\n",
      "log_like[22]  -4.15  1.8e-3   0.15  -4.47  -4.25  -4.14  -4.04  -3.87 7593.0    1.0\n",
      "log_like[23]  -4.24  1.9e-3   0.17   -4.6  -4.34  -4.22  -4.12  -3.95 7719.0    1.0\n",
      "log_like[24]  -4.86  3.3e-3   0.29  -5.52  -5.03  -4.83  -4.65  -4.38 7867.0    1.0\n",
      "log_like[25]  -3.91  1.6e-3   0.14   -4.2   -4.0  -3.91  -3.82  -3.66 7072.0    1.0\n",
      "log_like[26]  -4.86  3.3e-3   0.29  -5.52  -5.03  -4.83  -4.65  -4.38 7867.0    1.0\n",
      "log_like[27]  -4.66  2.8e-3   0.25  -5.21   -4.8  -4.63  -4.48  -4.25 7826.0    1.0\n",
      "log_like[28]  -3.86  1.7e-3   0.14  -4.15  -3.95  -3.85  -3.77  -3.61 6989.0    1.0\n",
      "log_like[29]  -3.94  1.6e-3   0.14  -4.22  -4.02  -3.93  -3.84  -3.68 7174.0    1.0\n",
      "lp__         -99.35    0.01   1.03 -102.1 -99.77 -99.03 -98.61 -98.35 5625.0    1.0\n",
      "\n",
      "Samples were drawn using NUTS(diag_e) at Mon Apr 18 15:40:03 2016.\n",
      "For each parameter, n_eff is a crude measure of effective sample size,\n",
      "and Rhat is the potential scale reduction factor on split chains (at \n",
      "convergence, Rhat=1).\n"
     ]
    }
   ],
   "source": [
    "data_combined = {\n",
    "    'J': y.size,\n",
    "    'y': y.flatten()\n",
    "}\n",
    "code_combined = \"\"\"\n",
    "data {\n",
    "    int<lower=1> J; // number of data points\n",
    "    vector[J] y; // measurements\n",
    "}\n",
    "parameters {\n",
    "    real mu;\n",
    "    real<lower=0> sigma;\n",
    "}\n",
    "model {\n",
    "    y ~ normal(mu, sigma);\n",
    "}\n",
    "generated quantities {\n",
    "    vector[J] log_like;\n",
    "\n",
    "    for(j in 1:J)\n",
    "        log_like[j] <- normal_log(y[j], mu, sigma);\n",
    "}\n",
    "\"\"\"\n",
    "fit_combined = pystan.stan(model_code=code_combined, data=data_combined, iter=3000, chains=20)\n",
    "params_combined = fit_combined.extract()\n",
    "print fit_combined"
   ]
  },
  {
   "cell_type": "code",
   "execution_count": 64,
   "metadata": {
    "collapsed": false
   },
   "outputs": [
    {
     "name": "stdout",
     "output_type": "stream",
     "text": [
      "Sum PSIS-LOO LPD: -130.953165, p-eff: 2.002530 \n"
     ]
    },
    {
     "data": {
      "image/png": "[encoded data removed]",
      "text/plain": [
       "<matplotlib.figure.Figure at 0x11b702d10>"
      ]
     },
     "metadata": {},
     "output_type": "display_data"
    }
   ],
   "source": [
    "ll = params_combined['log_like'].reshape(30000, -1)\n",
    "loo, loos, ks = psisloo(ll)\n",
    "\n",
    "plt.subplot(121)\n",
    "_=plt.hist(loos)\n",
    "_=plt.title('PSIS-LOO LPD')\n",
    "plt.subplot(122)\n",
    "_=plt.hist(ks)\n",
    "_=plt.title('k-values')\n",
    "print \"Sum PSIS-LOO LPD: %f, p-eff: %f \" % (loo, p_eff(loo, ll))"
   ]
  },
  {
   "cell_type": "markdown",
   "metadata": {},
   "source": [
    "### Hierarchical model"
   ]
  },
  {
   "cell_type": "code",
   "execution_count": 57,
   "metadata": {
    "collapsed": false
   },
   "outputs": [
    {
     "name": "stdout",
     "output_type": "stream",
     "text": [
      "Inference for Stan model: anon_model_3c1576bd8e91fb2761426f2c2ff27280.\n",
      "20 chains, each with iter=3000; warmup=1500; thin=1; \n",
      "post-warmup draws per chain=1500, total post-warmup draws=30000.\n",
      "\n",
      "                mean se_mean     sd   2.5%    25%    50%    75%  97.5%  n_eff   Rhat\n",
      "mu0             93.0     0.1   7.97  77.16  88.75  92.99  97.24 108.85 6305.0    1.0\n",
      "sigma0         15.88    0.14   9.53   4.32   10.0  13.87  19.32  39.13 4700.0    1.0\n",
      "mu[0]          80.06     0.1    6.9  66.55  75.38  80.01  84.78  93.45 5056.0    1.0\n",
      "mu[1]         103.07    0.09   6.62  90.12  98.61 103.09 107.42 116.07 5684.0    1.0\n",
      "mu[2]          89.08    0.07   6.19  76.76  85.01  89.21  93.15 101.17 7960.0    1.0\n",
      "mu[3]         107.12    0.11   6.95  93.34  102.5 107.28 111.89 120.51 3861.0    1.0\n",
      "mu[4]          90.78    0.07   6.12  78.55  86.78  90.87  94.87 102.68 8573.0    1.0\n",
      "mu[5]          87.64    0.07   6.13  75.53  83.52  87.73  91.71  99.48 8156.0    1.0\n",
      "sigma          15.25    0.03   2.38  11.44  13.57  14.95  16.63  20.85 6115.0    1.0\n",
      "log_like[0,0]  -3.76  2.5e-3   0.21  -4.26  -3.87  -3.73  -3.61  -3.42 7192.0    1.0\n",
      "log_like[1,0]  -4.08  4.8e-3   0.41  -5.14  -4.27  -3.98   -3.8  -3.56 7297.0    1.0\n",
      "log_like[2,0]  -4.08  4.8e-3   0.41  -5.14  -4.27  -3.98   -3.8  -3.56 7297.0    1.0\n",
      "log_like[3,0]  -6.35    0.01   1.11  -8.84  -7.03  -6.22  -5.53  -4.54 6256.0    1.0\n",
      "log_like[4,0]   -4.1  6.3e-3   0.41  -5.08  -4.34  -4.03   -3.8  -3.52 4196.0    1.0\n",
      "log_like[0,1]  -4.15  5.5e-3   0.42  -5.14  -4.39  -4.08  -3.85  -3.55 5662.0    1.0\n",
      "log_like[1,1]   -3.8  3.5e-3   0.25   -4.4  -3.93  -3.76  -3.62  -3.42 5092.0    1.0\n",
      "log_like[2,1]  -3.99  4.7e-3   0.35  -4.81  -4.18  -3.92  -3.73  -3.49 5363.0    1.0\n",
      "log_like[3,1]  -3.73  2.6e-3    0.2  -4.18  -3.84  -3.71  -3.59   -3.4 5971.0    1.0\n",
      "log_like[4,1]  -4.34  6.1e-3   0.52  -5.64   -4.6  -4.23  -3.97  -3.67 7056.0    1.0\n",
      "log_like[0,2]  -4.05  4.0e-3   0.36  -4.96  -4.22  -3.97   -3.8  -3.55 8393.0    1.0\n",
      "log_like[1,2]  -3.75  2.5e-3   0.21  -4.24  -3.86  -3.72  -3.61  -3.42 7246.0    1.0\n",
      "log_like[2,2]  -3.74  2.4e-3    0.2  -4.19  -3.84  -3.71   -3.6  -3.41 7032.0    1.0\n",
      "log_like[3,2]  -3.73  2.5e-3    0.2   -4.2  -3.85  -3.71   -3.6  -3.41 6617.0    1.0\n",
      "log_like[4,2]  -4.83  6.8e-3   0.63  -6.33  -5.18  -4.74  -4.37  -3.87 8684.0    1.0\n",
      "log_like[0,3]  -3.75  2.5e-3   0.21  -4.23  -3.86  -3.72  -3.61  -3.42 6840.0    1.0\n",
      "log_like[1,3]  -4.04  6.7e-3   0.39  -4.95  -4.25  -3.96  -3.75  -3.49 3372.0    1.0\n",
      "log_like[2,3]   -3.9  5.6e-3   0.32  -4.68  -4.07  -3.83  -3.67  -3.44 3273.0    1.0\n",
      "log_like[3,3]   -3.8  2.7e-3   0.24  -4.41  -3.92  -3.77  -3.64  -3.45 8082.0    1.0\n",
      "log_like[4,3]   -3.9  5.6e-3   0.32  -4.68  -4.07  -3.83  -3.67  -3.44 3273.0    1.0\n",
      "log_like[0,4]  -4.03  3.7e-3   0.34  -4.88  -4.21  -3.97  -3.78  -3.53 8532.0    1.0\n",
      "log_like[1,4]   -3.8  2.7e-3   0.24  -4.39  -3.92  -3.77  -3.64  -3.44 7883.0    1.0\n",
      "log_like[2,4]  -4.06  3.9e-3   0.37  -4.97  -4.24  -3.99   -3.8  -3.55 8704.0    1.0\n",
      "log_like[3,4]  -4.03  3.7e-3   0.34  -4.88  -4.21  -3.97  -3.78  -3.53 8532.0    1.0\n",
      "log_like[4,4]  -3.72  2.3e-3   0.19  -4.13  -3.83   -3.7  -3.59   -3.4 6859.0    1.0\n",
      "log_like[0,5]  -5.85    0.01   0.96  -8.08   -6.4  -5.72  -5.17  -4.39 8845.0    1.0\n",
      "log_like[1,5]  -3.76  2.4e-3   0.21  -4.25  -3.87  -3.73  -3.62  -3.42 7933.0    1.0\n",
      "log_like[2,5]  -4.34  5.2e-3   0.48  -5.54  -4.59  -4.24  -3.99  -3.67 8556.0    1.0\n",
      "log_like[3,5]  -3.97  3.6e-3   0.32  -4.74  -4.14  -3.92  -3.74  -3.49 7917.0    1.0\n",
      "log_like[4,5]  -4.07  4.0e-3   0.37  -5.01  -4.25   -4.0  -3.81  -3.56 8684.0    1.0\n",
      "lp__          -108.8    0.03   2.44 -114.6 -110.2 -108.4 -107.0 -105.2 5020.0    1.0\n",
      "\n",
      "Samples were drawn using NUTS(diag_e) at Mon Apr 18 15:51:42 2016.\n",
      "For each parameter, n_eff is a crude measure of effective sample size,\n",
      "and Rhat is the potential scale reduction factor on split chains (at \n",
      "convergence, Rhat=1).\n"
     ]
    }
   ],
   "source": [
    "data_hierarchical = {\n",
    "    'J': y.shape[0],\n",
    "    'K': y.shape[1],\n",
    "    'y': y\n",
    "}\n",
    "code_hierarchical = \"\"\"\n",
    "data {\n",
    "    int<lower=1> J; // number of data points\n",
    "    int<lower=1> K; // number of groups \n",
    "    matrix[J,K]  y; // measurements\n",
    "}\n",
    "parameters {\n",
    "    real          mu0;\n",
    "    real<lower=0> sigma0;\n",
    "    vector[K]     mu;     // group means\n",
    "    real<lower=0> sigma;  // shared std\n",
    "}\n",
    "model {\n",
    "    for (k in 1:K){\n",
    "      mu[k] ~ normal(mu0, sigma0);\n",
    "      y[:,k] ~ normal(mu[k], sigma);    \n",
    "    }\n",
    "}\n",
    "generated quantities {\n",
    "    matrix[J,K] log_like;\n",
    "\n",
    "    for(j in 1:J)\n",
    "        for (k in 1:K)\n",
    "            log_like[j,k] <- normal_log(y[j,k], mu[k], sigma);\n",
    "}\n",
    "\"\"\"\n",
    "fit_hierarchical = pystan.stan(model_code=code_hierarchical, data=data_hierarchical, iter=3000, chains=20)\n",
    "params_hierarchical = fit_hierarchical.extract()\n",
    "print fit_hierarchical"
   ]
  },
  {
   "cell_type": "code",
   "execution_count": 65,
   "metadata": {
    "collapsed": false
   },
   "outputs": [
    {
     "name": "stdout",
     "output_type": "stream",
     "text": [
      "Sum PSIS-LOO LPD: -126.933453, p-eff: 5.745502 \n"
     ]
    },
    {
     "data": {
      "image/png": "[encoded data removed]",
      "text/plain": [
       "<matplotlib.figure.Figure at 0x11c1e2f90>"
      ]
     },
     "metadata": {},
     "output_type": "display_data"
    }
   ],
   "source": [
    "ll = params_hierarchical['log_like'].reshape(30000, -1)\n",
    "loo, loos, ks = psisloo(ll)\n",
    "\n",
    "plt.subplot(121)\n",
    "_=plt.hist(loos)\n",
    "_=plt.title('PSIS-LOO LPD')\n",
    "plt.subplot(122)\n",
    "_=plt.hist(ks)\n",
    "_=plt.title('k-values')\n",
    "print \"Sum PSIS-LOO LPD: %f, p-eff: %f \" % (loo, p_eff(loo, ll))"
   ]
  },
  {
   "cell_type": "markdown",
   "metadata": {},
   "source": [
    "### Conclusion"
   ]
  },
  {
   "cell_type": "markdown",
   "metadata": {},
   "source": [
    "For all the models the Rhat's are close to 1, and the k-values are below 1, and most below 0.5, so the models are converged and the PSIS-LOO values are good estimates of the real LOO LPD. Since the hierarchical model has the highest PSIS-LOO LPD, this is the better model of the data."
   ]
  },
  {
   "cell_type": "code",
   "execution_count": null,
   "metadata": {
    "collapsed": true
   },
   "outputs": [],
   "source": []
  }
 ],
 "metadata": {
  "kernelspec": {
   "display_name": "Python 2",
   "language": "python",
   "name": "python2"
  },
  "language_info": {
   "codemirror_mode": {
    "name": "ipython",
    "version": 2
   },
   "file_extension": ".py",
   "mimetype": "text/x-python",
   "name": "python",
   "nbconvert_exporter": "python",
   "pygments_lexer": "ipython2",
   "version": "2.7.11"
  }
 },
 "nbformat": 4,
 "nbformat_minor": 0
}
